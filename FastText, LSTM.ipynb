{
  "nbformat": 4,
  "nbformat_minor": 0,
  "metadata": {
    "colab": {
      "provenance": []
    },
    "kernelspec": {
      "name": "python3",
      "display_name": "Python 3"
    },
    "language_info": {
      "name": "python"
    }
  },
  "cells": [
    {
      "cell_type": "code",
      "execution_count": 1,
      "metadata": {
        "colab": {
          "base_uri": "https://localhost:8080/"
        },
        "id": "PgxSAR2hIMxK",
        "outputId": "bc5d583d-2801-430e-8ee8-7a92d03f7a7b"
      },
      "outputs": [
        {
          "output_type": "stream",
          "name": "stdout",
          "text": [
            "Requirement already satisfied: gensim in /usr/local/lib/python3.10/dist-packages (4.3.1)\n",
            "Requirement already satisfied: numpy>=1.18.5 in /usr/local/lib/python3.10/dist-packages (from gensim) (1.22.4)\n",
            "Requirement already satisfied: scipy>=1.7.0 in /usr/local/lib/python3.10/dist-packages (from gensim) (1.10.1)\n",
            "Requirement already satisfied: smart-open>=1.8.1 in /usr/local/lib/python3.10/dist-packages (from gensim) (6.3.0)\n",
            "Requirement already satisfied: tensorflow in /usr/local/lib/python3.10/dist-packages (2.12.0)\n",
            "Requirement already satisfied: absl-py>=1.0.0 in /usr/local/lib/python3.10/dist-packages (from tensorflow) (1.4.0)\n",
            "Requirement already satisfied: astunparse>=1.6.0 in /usr/local/lib/python3.10/dist-packages (from tensorflow) (1.6.3)\n",
            "Requirement already satisfied: flatbuffers>=2.0 in /usr/local/lib/python3.10/dist-packages (from tensorflow) (23.5.26)\n",
            "Requirement already satisfied: gast<=0.4.0,>=0.2.1 in /usr/local/lib/python3.10/dist-packages (from tensorflow) (0.4.0)\n",
            "Requirement already satisfied: google-pasta>=0.1.1 in /usr/local/lib/python3.10/dist-packages (from tensorflow) (0.2.0)\n",
            "Requirement already satisfied: grpcio<2.0,>=1.24.3 in /usr/local/lib/python3.10/dist-packages (from tensorflow) (1.56.0)\n",
            "Requirement already satisfied: h5py>=2.9.0 in /usr/local/lib/python3.10/dist-packages (from tensorflow) (3.8.0)\n",
            "Requirement already satisfied: jax>=0.3.15 in /usr/local/lib/python3.10/dist-packages (from tensorflow) (0.4.10)\n",
            "Requirement already satisfied: keras<2.13,>=2.12.0 in /usr/local/lib/python3.10/dist-packages (from tensorflow) (2.12.0)\n",
            "Requirement already satisfied: libclang>=13.0.0 in /usr/local/lib/python3.10/dist-packages (from tensorflow) (16.0.0)\n",
            "Requirement already satisfied: numpy<1.24,>=1.22 in /usr/local/lib/python3.10/dist-packages (from tensorflow) (1.22.4)\n",
            "Requirement already satisfied: opt-einsum>=2.3.2 in /usr/local/lib/python3.10/dist-packages (from tensorflow) (3.3.0)\n",
            "Requirement already satisfied: packaging in /usr/local/lib/python3.10/dist-packages (from tensorflow) (23.1)\n",
            "Requirement already satisfied: protobuf!=4.21.0,!=4.21.1,!=4.21.2,!=4.21.3,!=4.21.4,!=4.21.5,<5.0.0dev,>=3.20.3 in /usr/local/lib/python3.10/dist-packages (from tensorflow) (3.20.3)\n",
            "Requirement already satisfied: setuptools in /usr/local/lib/python3.10/dist-packages (from tensorflow) (67.7.2)\n",
            "Requirement already satisfied: six>=1.12.0 in /usr/local/lib/python3.10/dist-packages (from tensorflow) (1.16.0)\n",
            "Requirement already satisfied: tensorboard<2.13,>=2.12 in /usr/local/lib/python3.10/dist-packages (from tensorflow) (2.12.3)\n",
            "Requirement already satisfied: tensorflow-estimator<2.13,>=2.12.0 in /usr/local/lib/python3.10/dist-packages (from tensorflow) (2.12.0)\n",
            "Requirement already satisfied: termcolor>=1.1.0 in /usr/local/lib/python3.10/dist-packages (from tensorflow) (2.3.0)\n",
            "Requirement already satisfied: typing-extensions>=3.6.6 in /usr/local/lib/python3.10/dist-packages (from tensorflow) (4.6.3)\n",
            "Requirement already satisfied: wrapt<1.15,>=1.11.0 in /usr/local/lib/python3.10/dist-packages (from tensorflow) (1.14.1)\n",
            "Requirement already satisfied: tensorflow-io-gcs-filesystem>=0.23.1 in /usr/local/lib/python3.10/dist-packages (from tensorflow) (0.32.0)\n",
            "Requirement already satisfied: wheel<1.0,>=0.23.0 in /usr/local/lib/python3.10/dist-packages (from astunparse>=1.6.0->tensorflow) (0.40.0)\n",
            "Requirement already satisfied: ml-dtypes>=0.1.0 in /usr/local/lib/python3.10/dist-packages (from jax>=0.3.15->tensorflow) (0.2.0)\n",
            "Requirement already satisfied: scipy>=1.7 in /usr/local/lib/python3.10/dist-packages (from jax>=0.3.15->tensorflow) (1.10.1)\n",
            "Requirement already satisfied: google-auth<3,>=1.6.3 in /usr/local/lib/python3.10/dist-packages (from tensorboard<2.13,>=2.12->tensorflow) (2.17.3)\n",
            "Requirement already satisfied: google-auth-oauthlib<1.1,>=0.5 in /usr/local/lib/python3.10/dist-packages (from tensorboard<2.13,>=2.12->tensorflow) (1.0.0)\n",
            "Requirement already satisfied: markdown>=2.6.8 in /usr/local/lib/python3.10/dist-packages (from tensorboard<2.13,>=2.12->tensorflow) (3.4.3)\n",
            "Requirement already satisfied: requests<3,>=2.21.0 in /usr/local/lib/python3.10/dist-packages (from tensorboard<2.13,>=2.12->tensorflow) (2.27.1)\n",
            "Requirement already satisfied: tensorboard-data-server<0.8.0,>=0.7.0 in /usr/local/lib/python3.10/dist-packages (from tensorboard<2.13,>=2.12->tensorflow) (0.7.1)\n",
            "Requirement already satisfied: werkzeug>=1.0.1 in /usr/local/lib/python3.10/dist-packages (from tensorboard<2.13,>=2.12->tensorflow) (2.3.6)\n",
            "Requirement already satisfied: cachetools<6.0,>=2.0.0 in /usr/local/lib/python3.10/dist-packages (from google-auth<3,>=1.6.3->tensorboard<2.13,>=2.12->tensorflow) (5.3.1)\n",
            "Requirement already satisfied: pyasn1-modules>=0.2.1 in /usr/local/lib/python3.10/dist-packages (from google-auth<3,>=1.6.3->tensorboard<2.13,>=2.12->tensorflow) (0.3.0)\n",
            "Requirement already satisfied: rsa<5,>=3.1.4 in /usr/local/lib/python3.10/dist-packages (from google-auth<3,>=1.6.3->tensorboard<2.13,>=2.12->tensorflow) (4.9)\n",
            "Requirement already satisfied: requests-oauthlib>=0.7.0 in /usr/local/lib/python3.10/dist-packages (from google-auth-oauthlib<1.1,>=0.5->tensorboard<2.13,>=2.12->tensorflow) (1.3.1)\n",
            "Requirement already satisfied: urllib3<1.27,>=1.21.1 in /usr/local/lib/python3.10/dist-packages (from requests<3,>=2.21.0->tensorboard<2.13,>=2.12->tensorflow) (1.26.16)\n",
            "Requirement already satisfied: certifi>=2017.4.17 in /usr/local/lib/python3.10/dist-packages (from requests<3,>=2.21.0->tensorboard<2.13,>=2.12->tensorflow) (2023.5.7)\n",
            "Requirement already satisfied: charset-normalizer~=2.0.0 in /usr/local/lib/python3.10/dist-packages (from requests<3,>=2.21.0->tensorboard<2.13,>=2.12->tensorflow) (2.0.12)\n",
            "Requirement already satisfied: idna<4,>=2.5 in /usr/local/lib/python3.10/dist-packages (from requests<3,>=2.21.0->tensorboard<2.13,>=2.12->tensorflow) (3.4)\n",
            "Requirement already satisfied: MarkupSafe>=2.1.1 in /usr/local/lib/python3.10/dist-packages (from werkzeug>=1.0.1->tensorboard<2.13,>=2.12->tensorflow) (2.1.3)\n",
            "Requirement already satisfied: pyasn1<0.6.0,>=0.4.6 in /usr/local/lib/python3.10/dist-packages (from pyasn1-modules>=0.2.1->google-auth<3,>=1.6.3->tensorboard<2.13,>=2.12->tensorflow) (0.5.0)\n",
            "Requirement already satisfied: oauthlib>=3.0.0 in /usr/local/lib/python3.10/dist-packages (from requests-oauthlib>=0.7.0->google-auth-oauthlib<1.1,>=0.5->tensorboard<2.13,>=2.12->tensorflow) (3.2.2)\n",
            "Collecting optuna\n",
            "  Downloading optuna-3.2.0-py3-none-any.whl (390 kB)\n",
            "\u001b[2K     \u001b[90m━━━━━━━━━━━━━━━━━━━━━━━━━━━━━━━━━━━━━━\u001b[0m \u001b[32m390.6/390.6 kB\u001b[0m \u001b[31m12.1 MB/s\u001b[0m eta \u001b[36m0:00:00\u001b[0m\n",
            "\u001b[?25hCollecting alembic>=1.5.0 (from optuna)\n",
            "  Downloading alembic-1.11.1-py3-none-any.whl (224 kB)\n",
            "\u001b[2K     \u001b[90m━━━━━━━━━━━━━━━━━━━━━━━━━━━━━━━━━━━━━━\u001b[0m \u001b[32m224.5/224.5 kB\u001b[0m \u001b[31m21.8 MB/s\u001b[0m eta \u001b[36m0:00:00\u001b[0m\n",
            "\u001b[?25hCollecting cmaes>=0.9.1 (from optuna)\n",
            "  Downloading cmaes-0.9.1-py3-none-any.whl (21 kB)\n",
            "Collecting colorlog (from optuna)\n",
            "  Downloading colorlog-6.7.0-py2.py3-none-any.whl (11 kB)\n",
            "Requirement already satisfied: numpy in /usr/local/lib/python3.10/dist-packages (from optuna) (1.22.4)\n",
            "Requirement already satisfied: packaging>=20.0 in /usr/local/lib/python3.10/dist-packages (from optuna) (23.1)\n",
            "Requirement already satisfied: sqlalchemy>=1.3.0 in /usr/local/lib/python3.10/dist-packages (from optuna) (2.0.16)\n",
            "Requirement already satisfied: tqdm in /usr/local/lib/python3.10/dist-packages (from optuna) (4.65.0)\n",
            "Requirement already satisfied: PyYAML in /usr/local/lib/python3.10/dist-packages (from optuna) (6.0)\n",
            "Collecting Mako (from alembic>=1.5.0->optuna)\n",
            "  Downloading Mako-1.2.4-py3-none-any.whl (78 kB)\n",
            "\u001b[2K     \u001b[90m━━━━━━━━━━━━━━━━━━━━━━━━━━━━━━━━━━━━━━━━\u001b[0m \u001b[32m78.7/78.7 kB\u001b[0m \u001b[31m7.5 MB/s\u001b[0m eta \u001b[36m0:00:00\u001b[0m\n",
            "\u001b[?25hRequirement already satisfied: typing-extensions>=4 in /usr/local/lib/python3.10/dist-packages (from alembic>=1.5.0->optuna) (4.6.3)\n",
            "Requirement already satisfied: greenlet!=0.4.17 in /usr/local/lib/python3.10/dist-packages (from sqlalchemy>=1.3.0->optuna) (2.0.2)\n",
            "Requirement already satisfied: MarkupSafe>=0.9.2 in /usr/local/lib/python3.10/dist-packages (from Mako->alembic>=1.5.0->optuna) (2.1.3)\n",
            "Installing collected packages: Mako, colorlog, cmaes, alembic, optuna\n",
            "Successfully installed Mako-1.2.4 alembic-1.11.1 cmaes-0.9.1 colorlog-6.7.0 optuna-3.2.0\n",
            "Requirement already satisfied: seaborn in /usr/local/lib/python3.10/dist-packages (0.12.2)\n",
            "Requirement already satisfied: matplotlib in /usr/local/lib/python3.10/dist-packages (3.7.1)\n",
            "Requirement already satisfied: numpy!=1.24.0,>=1.17 in /usr/local/lib/python3.10/dist-packages (from seaborn) (1.22.4)\n",
            "Requirement already satisfied: pandas>=0.25 in /usr/local/lib/python3.10/dist-packages (from seaborn) (1.5.3)\n",
            "Requirement already satisfied: contourpy>=1.0.1 in /usr/local/lib/python3.10/dist-packages (from matplotlib) (1.1.0)\n",
            "Requirement already satisfied: cycler>=0.10 in /usr/local/lib/python3.10/dist-packages (from matplotlib) (0.11.0)\n",
            "Requirement already satisfied: fonttools>=4.22.0 in /usr/local/lib/python3.10/dist-packages (from matplotlib) (4.40.0)\n",
            "Requirement already satisfied: kiwisolver>=1.0.1 in /usr/local/lib/python3.10/dist-packages (from matplotlib) (1.4.4)\n",
            "Requirement already satisfied: packaging>=20.0 in /usr/local/lib/python3.10/dist-packages (from matplotlib) (23.1)\n",
            "Requirement already satisfied: pillow>=6.2.0 in /usr/local/lib/python3.10/dist-packages (from matplotlib) (8.4.0)\n",
            "Requirement already satisfied: pyparsing>=2.3.1 in /usr/local/lib/python3.10/dist-packages (from matplotlib) (3.1.0)\n",
            "Requirement already satisfied: python-dateutil>=2.7 in /usr/local/lib/python3.10/dist-packages (from matplotlib) (2.8.2)\n",
            "Requirement already satisfied: pytz>=2020.1 in /usr/local/lib/python3.10/dist-packages (from pandas>=0.25->seaborn) (2022.7.1)\n",
            "Requirement already satisfied: six>=1.5 in /usr/local/lib/python3.10/dist-packages (from python-dateutil>=2.7->matplotlib) (1.16.0)\n",
            "Requirement already satisfied: imbalanced-learn in /usr/local/lib/python3.10/dist-packages (0.10.1)\n",
            "Requirement already satisfied: numpy>=1.17.3 in /usr/local/lib/python3.10/dist-packages (from imbalanced-learn) (1.22.4)\n",
            "Requirement already satisfied: scipy>=1.3.2 in /usr/local/lib/python3.10/dist-packages (from imbalanced-learn) (1.10.1)\n",
            "Requirement already satisfied: scikit-learn>=1.0.2 in /usr/local/lib/python3.10/dist-packages (from imbalanced-learn) (1.2.2)\n",
            "Requirement already satisfied: joblib>=1.1.1 in /usr/local/lib/python3.10/dist-packages (from imbalanced-learn) (1.2.0)\n",
            "Requirement already satisfied: threadpoolctl>=2.0.0 in /usr/local/lib/python3.10/dist-packages (from imbalanced-learn) (3.1.0)\n"
          ]
        }
      ],
      "source": [
        "!pip install gensim\n",
        "!pip install tensorflow\n",
        "!pip install optuna\n",
        "!pip install seaborn matplotlib\n",
        "!pip install imbalanced-learn"
      ]
    },
    {
      "cell_type": "code",
      "source": [
        "from google.colab import drive\n",
        "drive.mount('/content/drive')"
      ],
      "metadata": {
        "colab": {
          "base_uri": "https://localhost:8080/"
        },
        "id": "N9L3G0SEITzv",
        "outputId": "319c0471-3e3f-4812-8526-9a0e23b421a3"
      },
      "execution_count": 2,
      "outputs": [
        {
          "output_type": "stream",
          "name": "stdout",
          "text": [
            "Mounted at /content/drive\n"
          ]
        }
      ]
    },
    {
      "cell_type": "code",
      "source": [
        "import pandas as pd\n",
        "import numpy as np\n",
        "from gensim.models import FastText\n",
        "from sklearn.model_selection import train_test_split\n",
        "import tensorflow as tf\n",
        "from tensorflow.keras.models import Sequential\n",
        "from tensorflow.keras.layers import LSTM, Dropout, Dense, Embedding\n",
        "from tensorflow.keras.preprocessing.sequence import pad_sequences\n",
        "from tensorflow.keras.preprocessing.text import Tokenizer\n",
        "from tensorflow.keras.initializers import Constant\n",
        "import nltk\n",
        "import re\n",
        "from nltk.stem import WordNetLemmatizer\n",
        "from nltk.corpus import stopwords\n",
        "from sklearn.utils import resample\n",
        "import seaborn as sns\n",
        "import matplotlib.pyplot as plt"
      ],
      "metadata": {
        "id": "koIJP6WKIVB0"
      },
      "execution_count": 3,
      "outputs": []
    },
    {
      "cell_type": "code",
      "source": [
        "train = pd.read_csv('/content/drive/MyDrive/competition/Court_Judgment/train.csv')\n",
        "test = pd.read_csv('/content/drive/MyDrive/competition/Court_Judgment/test.csv')"
      ],
      "metadata": {
        "id": "dOnoWgYdIWOD"
      },
      "execution_count": 4,
      "outputs": []
    },
    {
      "cell_type": "markdown",
      "source": [
        "## **Resampling**"
      ],
      "metadata": {
        "id": "1NfYdNlHIcit"
      }
    },
    {
      "cell_type": "code",
      "source": [
        "(train['first_party_winner'] == 0).sum()\n",
        "\n",
        "subset_0 = train[train[\"first_party_winner\"] == 0]\n",
        "subset_1 = train[train[\"first_party_winner\"] == 1]\n",
        "\n",
        "subset_1_downsampled = resample(subset_1,\n",
        "                                replace=False,\n",
        "                                n_samples=829,\n",
        "                                random_state=42)\n",
        "\n",
        "train = pd.concat([subset_0, subset_1_downsampled])"
      ],
      "metadata": {
        "id": "SWZ3CA-yIXsy"
      },
      "execution_count": 5,
      "outputs": []
    },
    {
      "cell_type": "markdown",
      "source": [
        "## **Data Preprocessing**"
      ],
      "metadata": {
        "id": "MpSQoMGhIgkD"
      }
    },
    {
      "cell_type": "code",
      "source": [
        "nltk.download('wordnet')\n",
        "nltk.download('punkt')\n",
        "nltk.download('stopwords')"
      ],
      "metadata": {
        "id": "kHAfHVkOIe5C",
        "colab": {
          "base_uri": "https://localhost:8080/"
        },
        "outputId": "36d5a85b-6dd7-4049-bf83-267d89a921de"
      },
      "execution_count": 6,
      "outputs": [
        {
          "output_type": "stream",
          "name": "stderr",
          "text": [
            "[nltk_data] Downloading package wordnet to /root/nltk_data...\n",
            "[nltk_data] Downloading package punkt to /root/nltk_data...\n",
            "[nltk_data]   Unzipping tokenizers/punkt.zip.\n",
            "[nltk_data] Downloading package stopwords to /root/nltk_data...\n",
            "[nltk_data]   Unzipping corpora/stopwords.zip.\n"
          ]
        },
        {
          "output_type": "execute_result",
          "data": {
            "text/plain": [
              "True"
            ]
          },
          "metadata": {},
          "execution_count": 6
        }
      ]
    },
    {
      "cell_type": "code",
      "source": [
        "lemmatizer = WordNetLemmatizer()"
      ],
      "metadata": {
        "id": "F8bly2vvaJ1-"
      },
      "execution_count": 7,
      "outputs": []
    },
    {
      "cell_type": "code",
      "source": [
        "def preprocess_text(text):\n",
        "    # Convert NaNs to empty strings\n",
        "    if pd.isnull(text):\n",
        "        text = ''\n",
        "    # Remove punctuation\n",
        "    text = re.sub(r'[^\\w\\s]', '', text)\n",
        "    # Convert text to lowercase\n",
        "    text = text.lower()\n",
        "    # Tokenize the text\n",
        "    tokens = nltk.word_tokenize(text)\n",
        "    # Remove stopwords and apply lemmatization\n",
        "    tokens = [lemmatizer.lemmatize(token) for token in tokens if token not in stopwords.words('english')]\n",
        "    return tokens"
      ],
      "metadata": {
        "id": "AkAf6TumIjyp"
      },
      "execution_count": 8,
      "outputs": []
    },
    {
      "cell_type": "code",
      "source": [
        "train['facts'] = train['facts'].apply(preprocess_text)\n",
        "train['first_party'] = train['first_party'].apply(preprocess_text)\n",
        "train['second_party'] = train['second_party'].apply(preprocess_text)\n",
        "\n",
        "test['facts'] = test['facts'].apply(preprocess_text)\n",
        "test['first_party'] = test['first_party'].apply(preprocess_text)\n",
        "test['second_party'] = test['second_party'].apply(preprocess_text)\n",
        "\n",
        "all_texts = train['facts'].tolist() + train['first_party'].tolist() + train['second_party'].tolist()"
      ],
      "metadata": {
        "id": "bqTW6PYUIxcS"
      },
      "execution_count": 9,
      "outputs": []
    },
    {
      "cell_type": "code",
      "source": [
        "train['word_count'] = train['facts'].apply(lambda x: len(str(x).split()))\n",
        "test['word_count'] = test['facts'].apply(lambda x: len(str(x).split()))"
      ],
      "metadata": {
        "id": "hG3KcH_fIz_z"
      },
      "execution_count": 10,
      "outputs": []
    },
    {
      "cell_type": "code",
      "source": [
        "# Visualize the word count distribution\n",
        "plt.figure(figsize=(10, 6))\n",
        "plt.hist(train['word_count'], bins=20, edgecolor='black')\n",
        "plt.xlabel('Word Count')\n",
        "plt.ylabel('Frequency')\n",
        "plt.title('Distribution of Word Count')\n",
        "plt.show()"
      ],
      "metadata": {
        "colab": {
          "base_uri": "https://localhost:8080/",
          "height": 564
        },
        "id": "4GkEXrBzI1rV",
        "outputId": "97ed2f3e-670c-479c-9a67-da9bf54ed147"
      },
      "execution_count": 11,
      "outputs": [
        {
          "output_type": "display_data",
          "data": {
            "text/plain": [
              "<Figure size 1000x600 with 1 Axes>"
            ],
            "image/png": "[encoded data removed]"
          },
          "metadata": {}
        }
      ]
    },
    {
      "cell_type": "markdown",
      "source": [
        "### **Using FastText**"
      ],
      "metadata": {
        "id": "otPZbhynI4nO"
      }
    },
    {
      "cell_type": "code",
      "source": [
        "# We train FastText model on all_texts\n",
        "fasttext_model = FastText(sentences=all_texts, vector_size=200, window=5, min_count=1, workers=4)\n",
        "\n",
        "# Define Tokenizer\n",
        "tokenizer = Tokenizer()\n",
        "tokenizer.fit_on_texts(all_texts)\n",
        "word_index = tokenizer.word_index\n",
        "\n",
        "EMBEDDING_DIM = 200  # this should match the dimensionality of the FastText vectors\n",
        "\n",
        "# Prepare embedding matrix\n",
        "embedding_matrix = np.zeros((len(word_index) + 1, EMBEDDING_DIM))\n",
        "for word, i in word_index.items():\n",
        "    if word in fasttext_model.wv:\n",
        "        embedding_vector = fasttext_model.wv[word]\n",
        "        embedding_matrix[i] = embedding_vector\n",
        "\n",
        "# Load this into an Embedding layer\n",
        "# Note that we set trainable=False to prevent the weights from being updated during training.\n",
        "embedding_layer = Embedding(len(word_index) + 1,\n",
        "                            EMBEDDING_DIM,\n",
        "                            embeddings_initializer=Constant(embedding_matrix),\n",
        "                            trainable=False)"
      ],
      "metadata": {
        "id": "XmT_dtDxI28h"
      },
      "execution_count": 12,
      "outputs": []
    },
    {
      "cell_type": "code",
      "source": [
        "def get_vector(model, texts):\n",
        "    vectors = []\n",
        "    for text in texts:\n",
        "        text_vectors = []\n",
        "        for word in text:\n",
        "            if word in model.wv.key_to_index:\n",
        "                text_vectors.append(model.wv.get_vector(word))\n",
        "        if len(text_vectors) > 0:\n",
        "            text_vector = np.mean(text_vectors, axis=0)\n",
        "            vectors.append(text_vector)\n",
        "        else:\n",
        "            vectors.append(np.zeros(model.vector_size))\n",
        "    return np.array(vectors)"
      ],
      "metadata": {
        "id": "krWQSqUUI_cE"
      },
      "execution_count": 13,
      "outputs": []
    },
    {
      "cell_type": "code",
      "source": [
        "X_train_facts = get_vector(fasttext_model, train['facts'])\n",
        "X_train_party1 = get_vector(fasttext_model, train['first_party'])\n",
        "X_train_party2 = get_vector(fasttext_model, train['second_party'])\n",
        "X_train = np.concatenate([X_train_party1, X_train_party2, X_train_facts], axis=1)\n",
        "Y_train = train['first_party_winner']\n",
        "\n",
        "X_test_facts = get_vector(fasttext_model, test['facts'])\n",
        "X_test_party1 = get_vector(fasttext_model, test['first_party'])\n",
        "X_test_party2 = get_vector(fasttext_model, test['second_party'])\n",
        "X_test = np.concatenate([X_test_party1,X_test_party2, X_test_facts], axis=1)\n",
        "\n",
        "X_train, X_val, Y_train, Y_val = train_test_split(X_train, Y_train, test_size=0.2, random_state=123)"
      ],
      "metadata": {
        "id": "ve8U9lhAJFya"
      },
      "execution_count": 14,
      "outputs": []
    },
    {
      "cell_type": "markdown",
      "source": [
        "## **Define Model and Train**"
      ],
      "metadata": {
        "id": "46aGr2jrJJrJ"
      }
    },
    {
      "cell_type": "code",
      "source": [
        "X_train = X_train.reshape((X_train.shape[0], 1, X_train.shape[1]))\n",
        "X_test = X_test.reshape((X_test.shape[0], 1, X_test.shape[1]))\n",
        "X_val = X_val.reshape((X_val.shape[0], 1, X_val.shape[1]))"
      ],
      "metadata": {
        "id": "F4Sy0-CNJIc6"
      },
      "execution_count": 15,
      "outputs": []
    },
    {
      "cell_type": "code",
      "source": [
        "import optuna\n",
        "from tensorflow.keras.layers import LSTM\n",
        "from tensorflow.keras.optimizers import Adam, RMSprop\n",
        "from tensorflow.keras.callbacks import EarlyStopping"
      ],
      "metadata": {
        "id": "1ZynohtlJNgG"
      },
      "execution_count": 16,
      "outputs": []
    },
    {
      "cell_type": "code",
      "source": [
        "def objective(trial):\n",
        "    # Define the search space for hyperparameters\n",
        "    units = trial.suggest_int(\"units\", 32, 128)\n",
        "    learning_rate = trial.suggest_loguniform(\"learning_rate\", 1e-5, 1e-1)\n",
        "    dropout_rate = trial.suggest_uniform('dropout_rate', 0.0, 0.5)\n",
        "    batch_size = trial.suggest_categorical(\"batch_size\", [16, 32])\n",
        "    optimizer = Adam(learning_rate=learning_rate)\n",
        "\n",
        "    # Define the model architecture\n",
        "    model = Sequential()\n",
        "    model.add(LSTM(units, return_sequences=True, input_shape=(1, X_train.shape[2])))\n",
        "    model.add(Dropout(dropout_rate))\n",
        "    model.add(LSTM(units))\n",
        "    model.add(Dropout(dropout_rate))\n",
        "    model.add(Dense(1, activation='sigmoid'))\n",
        "\n",
        "    # Compile the model\n",
        "    model.compile(optimizer=optimizer, loss='binary_crossentropy', metrics=['accuracy'])\n",
        "\n",
        "    # Define early stopping\n",
        "    es = EarlyStopping(monitor='val_loss', mode='min', verbose=1, patience=10)\n",
        "\n",
        "    # Train the model\n",
        "    model.fit(X_train, Y_train, epochs=100, batch_size=batch_size, validation_data=(X_val, Y_val), verbose=0, callbacks=[es])\n",
        "\n",
        "    # Evaluate the model\n",
        "    accuracy = model.evaluate(X_val, Y_val, verbose=0)[1]\n",
        "\n",
        "    return accuracy"
      ],
      "metadata": {
        "id": "HPCrP4F-JPHN"
      },
      "execution_count": 17,
      "outputs": []
    },
    {
      "cell_type": "code",
      "source": [
        "# Define the study and optimize the objective function\n",
        "study = optuna.create_study(direction='maximize')\n",
        "study.optimize(objective, n_trials=50)\n",
        "\n",
        "# Print the best hyperparameters and objective value\n",
        "best_params = study.best_params\n",
        "best_value = study.best_value\n",
        "print(\"Best Parameters: \", best_params)\n",
        "print(\"Best Value: \", best_value)"
      ],
      "metadata": {
        "colab": {
          "base_uri": "https://localhost:8080/"
        },
        "id": "EsWhlTmTJaDr",
        "outputId": "4ad55036-914c-444a-8fb9-14d157a2de3e"
      },
      "execution_count": 18,
      "outputs": [
        {
          "output_type": "stream",
          "name": "stderr",
          "text": [
            "[I 2023-07-09 07:25:23,503] A new study created in memory with name: no-name-cfaa199b-4c8e-47b4-84c2-b43b464ecde9\n",
            "<ipython-input-17-85f1acc3dace>:4: FutureWarning: suggest_loguniform has been deprecated in v3.0.0. This feature will be removed in v6.0.0. See https://github.com/optuna/optuna/releases/tag/v3.0.0. Use suggest_float(..., log=True) instead.\n",
            "  learning_rate = trial.suggest_loguniform(\"learning_rate\", 1e-5, 1e-1)\n",
            "<ipython-input-17-85f1acc3dace>:5: FutureWarning: suggest_uniform has been deprecated in v3.0.0. This feature will be removed in v6.0.0. See https://github.com/optuna/optuna/releases/tag/v3.0.0. Use suggest_float instead.\n",
            "  dropout_rate = trial.suggest_uniform('dropout_rate', 0.0, 0.5)\n"
          ]
        },
        {
          "output_type": "stream",
          "name": "stdout",
          "text": [
            "Epoch 24: early stopping\n"
          ]
        },
        {
          "output_type": "stream",
          "name": "stderr",
          "text": [
            "[I 2023-07-09 07:26:09,251] Trial 0 finished with value: 0.5813252925872803 and parameters: {'units': 100, 'learning_rate': 0.002438353840333428, 'dropout_rate': 0.2420497804406122, 'batch_size': 16}. Best is trial 0 with value: 0.5813252925872803.\n"
          ]
        },
        {
          "output_type": "stream",
          "name": "stdout",
          "text": [
            "Epoch 31: early stopping\n"
          ]
        },
        {
          "output_type": "stream",
          "name": "stderr",
          "text": [
            "[I 2023-07-09 07:26:43,672] Trial 1 finished with value: 0.5512048006057739 and parameters: {'units': 97, 'learning_rate': 0.00012139530574695453, 'dropout_rate': 0.10213586522064927, 'batch_size': 16}. Best is trial 0 with value: 0.5813252925872803.\n"
          ]
        },
        {
          "output_type": "stream",
          "name": "stdout",
          "text": [
            "Epoch 13: early stopping\n"
          ]
        },
        {
          "output_type": "stream",
          "name": "stderr",
          "text": [
            "[I 2023-07-09 07:27:01,984] Trial 2 finished with value: 0.47289156913757324 and parameters: {'units': 102, 'learning_rate': 0.01473413234473286, 'dropout_rate': 0.0878003038125223, 'batch_size': 16}. Best is trial 0 with value: 0.5813252925872803.\n"
          ]
        },
        {
          "output_type": "stream",
          "name": "stdout",
          "text": [
            "Epoch 41: early stopping\n"
          ]
        },
        {
          "output_type": "stream",
          "name": "stderr",
          "text": [
            "[I 2023-07-09 07:28:28,240] Trial 3 finished with value: 0.5602409839630127 and parameters: {'units': 117, 'learning_rate': 3.39913514083648e-05, 'dropout_rate': 0.2240671355836636, 'batch_size': 16}. Best is trial 0 with value: 0.5813252925872803.\n"
          ]
        },
        {
          "output_type": "stream",
          "name": "stdout",
          "text": [
            "Epoch 49: early stopping\n"
          ]
        },
        {
          "output_type": "stream",
          "name": "stderr",
          "text": [
            "[I 2023-07-09 07:29:04,295] Trial 4 finished with value: 0.5783132314682007 and parameters: {'units': 113, 'learning_rate': 5.003611003896034e-05, 'dropout_rate': 0.08958926631659742, 'batch_size': 32}. Best is trial 0 with value: 0.5813252925872803.\n"
          ]
        },
        {
          "output_type": "stream",
          "name": "stdout",
          "text": [
            "Epoch 26: early stopping\n"
          ]
        },
        {
          "output_type": "stream",
          "name": "stderr",
          "text": [
            "[I 2023-07-09 07:29:25,068] Trial 5 finished with value: 0.5873494148254395 and parameters: {'units': 110, 'learning_rate': 0.0002952169933854213, 'dropout_rate': 0.35406591450739894, 'batch_size': 32}. Best is trial 5 with value: 0.5873494148254395.\n"
          ]
        },
        {
          "output_type": "stream",
          "name": "stdout",
          "text": [
            "Epoch 25: early stopping\n"
          ]
        },
        {
          "output_type": "stream",
          "name": "stderr",
          "text": [
            "[I 2023-07-09 07:29:53,325] Trial 6 finished with value: 0.5722891688346863 and parameters: {'units': 103, 'learning_rate': 0.000493102122697772, 'dropout_rate': 0.07244238592373942, 'batch_size': 16}. Best is trial 5 with value: 0.5873494148254395.\n"
          ]
        },
        {
          "output_type": "stream",
          "name": "stdout",
          "text": [
            "Epoch 42: early stopping\n"
          ]
        },
        {
          "output_type": "stream",
          "name": "stderr",
          "text": [
            "[I 2023-07-09 07:30:22,063] Trial 7 finished with value: 0.5662650465965271 and parameters: {'units': 93, 'learning_rate': 4.0130943981058344e-05, 'dropout_rate': 0.07970323258238271, 'batch_size': 32}. Best is trial 5 with value: 0.5873494148254395.\n"
          ]
        },
        {
          "output_type": "stream",
          "name": "stdout",
          "text": [
            "Epoch 19: early stopping\n"
          ]
        },
        {
          "output_type": "stream",
          "name": "stderr",
          "text": [
            "[I 2023-07-09 07:30:37,928] Trial 8 finished with value: 0.5271084308624268 and parameters: {'units': 101, 'learning_rate': 0.019122006995368732, 'dropout_rate': 0.04971840868619176, 'batch_size': 32}. Best is trial 5 with value: 0.5873494148254395.\n"
          ]
        },
        {
          "output_type": "stream",
          "name": "stdout",
          "text": [
            "Epoch 17: early stopping\n"
          ]
        },
        {
          "output_type": "stream",
          "name": "stderr",
          "text": [
            "[I 2023-07-09 07:30:58,353] Trial 9 finished with value: 0.5813252925872803 and parameters: {'units': 72, 'learning_rate': 0.0004931454323633574, 'dropout_rate': 0.1053041638207825, 'batch_size': 16}. Best is trial 5 with value: 0.5873494148254395.\n"
          ]
        },
        {
          "output_type": "stream",
          "name": "stdout",
          "text": [
            "Epoch 19: early stopping\n"
          ]
        },
        {
          "output_type": "stream",
          "name": "stderr",
          "text": [
            "[I 2023-07-09 07:31:12,776] Trial 10 finished with value: 0.5271084308624268 and parameters: {'units': 38, 'learning_rate': 0.09473988964349599, 'dropout_rate': 0.4677571838647214, 'batch_size': 32}. Best is trial 5 with value: 0.5873494148254395.\n"
          ]
        },
        {
          "output_type": "stream",
          "name": "stdout",
          "text": [
            "Epoch 27: early stopping\n"
          ]
        },
        {
          "output_type": "stream",
          "name": "stderr",
          "text": [
            "[I 2023-07-09 07:31:37,594] Trial 11 finished with value: 0.5783132314682007 and parameters: {'units': 128, 'learning_rate': 0.0019354069738809173, 'dropout_rate': 0.32139699995223003, 'batch_size': 32}. Best is trial 5 with value: 0.5873494148254395.\n"
          ]
        },
        {
          "output_type": "stream",
          "name": "stdout",
          "text": [
            "Epoch 55: early stopping\n"
          ]
        },
        {
          "output_type": "stream",
          "name": "stderr",
          "text": [
            "[I 2023-07-09 07:32:08,740] Trial 12 finished with value: 0.5542168617248535 and parameters: {'units': 77, 'learning_rate': 0.0019833465823940258, 'dropout_rate': 0.3190145516806072, 'batch_size': 32}. Best is trial 5 with value: 0.5873494148254395.\n"
          ]
        },
        {
          "output_type": "stream",
          "name": "stdout",
          "text": [
            "Epoch 91: early stopping\n"
          ]
        },
        {
          "output_type": "stream",
          "name": "stderr",
          "text": [
            "[I 2023-07-09 07:33:36,119] Trial 13 finished with value: 0.5813252925872803 and parameters: {'units': 65, 'learning_rate': 1.2153711014540209e-05, 'dropout_rate': 0.22496943837359493, 'batch_size': 16}. Best is trial 5 with value: 0.5873494148254395.\n"
          ]
        },
        {
          "output_type": "stream",
          "name": "stdout",
          "text": [
            "Epoch 33: early stopping\n"
          ]
        },
        {
          "output_type": "stream",
          "name": "stderr",
          "text": [
            "[I 2023-07-09 07:34:01,353] Trial 14 finished with value: 0.5903614163398743 and parameters: {'units': 57, 'learning_rate': 0.00023786264295899223, 'dropout_rate': 0.40065557805175267, 'batch_size': 16}. Best is trial 14 with value: 0.5903614163398743.\n"
          ]
        },
        {
          "output_type": "stream",
          "name": "stdout",
          "text": [
            "Epoch 25: early stopping\n"
          ]
        },
        {
          "output_type": "stream",
          "name": "stderr",
          "text": [
            "[I 2023-07-09 07:34:15,006] Trial 15 finished with value: 0.5692771077156067 and parameters: {'units': 51, 'learning_rate': 0.0002200738832059002, 'dropout_rate': 0.4362332845268719, 'batch_size': 32}. Best is trial 14 with value: 0.5903614163398743.\n"
          ]
        },
        {
          "output_type": "stream",
          "name": "stdout",
          "text": [
            "Epoch 43: early stopping\n"
          ]
        },
        {
          "output_type": "stream",
          "name": "stderr",
          "text": [
            "[I 2023-07-09 07:34:59,802] Trial 16 finished with value: 0.5692771077156067 and parameters: {'units': 59, 'learning_rate': 0.00015753653725781707, 'dropout_rate': 0.40437583692737905, 'batch_size': 16}. Best is trial 14 with value: 0.5903614163398743.\n"
          ]
        },
        {
          "output_type": "stream",
          "name": "stdout",
          "text": [
            "Epoch 35: early stopping\n"
          ]
        },
        {
          "output_type": "stream",
          "name": "stderr",
          "text": [
            "[I 2023-07-09 07:35:24,219] Trial 17 finished with value: 0.5692771077156067 and parameters: {'units': 32, 'learning_rate': 0.0004942309164900513, 'dropout_rate': 0.3781162370895432, 'batch_size': 32}. Best is trial 14 with value: 0.5903614163398743.\n"
          ]
        },
        {
          "output_type": "stream",
          "name": "stdout",
          "text": [
            "Epoch 32: early stopping\n"
          ]
        },
        {
          "output_type": "stream",
          "name": "stderr",
          "text": [
            "[I 2023-07-09 07:35:48,643] Trial 18 finished with value: 0.5903614163398743 and parameters: {'units': 86, 'learning_rate': 0.00013138174599166974, 'dropout_rate': 0.4811698538786245, 'batch_size': 32}. Best is trial 14 with value: 0.5903614163398743.\n"
          ]
        },
        {
          "output_type": "stream",
          "name": "stdout",
          "text": [
            "Epoch 41: early stopping\n"
          ]
        },
        {
          "output_type": "stream",
          "name": "stderr",
          "text": [
            "[I 2023-07-09 07:36:33,446] Trial 19 finished with value: 0.5602409839630127 and parameters: {'units': 85, 'learning_rate': 9.988788209954478e-05, 'dropout_rate': 0.4851889090168376, 'batch_size': 16}. Best is trial 14 with value: 0.5903614163398743.\n",
            "[I 2023-07-09 07:37:59,215] Trial 20 finished with value: 0.5602409839630127 and parameters: {'units': 49, 'learning_rate': 1.2371812590165834e-05, 'dropout_rate': 0.49509974372511933, 'batch_size': 16}. Best is trial 14 with value: 0.5903614163398743.\n"
          ]
        },
        {
          "output_type": "stream",
          "name": "stdout",
          "text": [
            "Epoch 30: early stopping\n"
          ]
        },
        {
          "output_type": "stream",
          "name": "stderr",
          "text": [
            "[I 2023-07-09 07:38:25,623] Trial 21 finished with value: 0.5662650465965271 and parameters: {'units': 82, 'learning_rate': 0.0002528267975405978, 'dropout_rate': 0.4301152708002552, 'batch_size': 32}. Best is trial 14 with value: 0.5903614163398743.\n"
          ]
        },
        {
          "output_type": "stream",
          "name": "stdout",
          "text": [
            "Epoch 37: early stopping\n"
          ]
        },
        {
          "output_type": "stream",
          "name": "stderr",
          "text": [
            "[I 2023-07-09 07:38:51,960] Trial 22 finished with value: 0.5662650465965271 and parameters: {'units': 87, 'learning_rate': 7.949093826019476e-05, 'dropout_rate': 0.36423043204548144, 'batch_size': 32}. Best is trial 14 with value: 0.5903614163398743.\n"
          ]
        },
        {
          "output_type": "stream",
          "name": "stdout",
          "text": [
            "Epoch 33: early stopping\n"
          ]
        },
        {
          "output_type": "stream",
          "name": "stderr",
          "text": [
            "[I 2023-07-09 07:39:08,908] Trial 23 finished with value: 0.5662650465965271 and parameters: {'units': 69, 'learning_rate': 0.0007469193734157734, 'dropout_rate': 0.43100456428911155, 'batch_size': 32}. Best is trial 14 with value: 0.5903614163398743.\n"
          ]
        },
        {
          "output_type": "stream",
          "name": "stdout",
          "text": [
            "Epoch 28: early stopping\n"
          ]
        },
        {
          "output_type": "stream",
          "name": "stderr",
          "text": [
            "[I 2023-07-09 07:39:34,139] Trial 24 finished with value: 0.5753012299537659 and parameters: {'units': 112, 'learning_rate': 0.00027994059705577185, 'dropout_rate': 0.45900870812221417, 'batch_size': 32}. Best is trial 14 with value: 0.5903614163398743.\n"
          ]
        },
        {
          "output_type": "stream",
          "name": "stdout",
          "text": [
            "Epoch 48: early stopping\n"
          ]
        },
        {
          "output_type": "stream",
          "name": "stderr",
          "text": [
            "[I 2023-07-09 07:39:55,309] Trial 25 finished with value: 0.5813252925872803 and parameters: {'units': 57, 'learning_rate': 7.928476561228758e-05, 'dropout_rate': 0.3897137414145664, 'batch_size': 32}. Best is trial 14 with value: 0.5903614163398743.\n"
          ]
        },
        {
          "output_type": "stream",
          "name": "stdout",
          "text": [
            "Epoch 41: early stopping\n"
          ]
        },
        {
          "output_type": "stream",
          "name": "stderr",
          "text": [
            "[I 2023-07-09 07:40:21,731] Trial 26 finished with value: 0.5873494148254395 and parameters: {'units': 91, 'learning_rate': 0.0011053246062707029, 'dropout_rate': 0.4964469628506277, 'batch_size': 32}. Best is trial 14 with value: 0.5903614163398743.\n"
          ]
        },
        {
          "output_type": "stream",
          "name": "stdout",
          "text": [
            "Epoch 56: early stopping\n"
          ]
        },
        {
          "output_type": "stream",
          "name": "stderr",
          "text": [
            "[I 2023-07-09 07:40:47,363] Trial 27 finished with value: 0.5753012299537659 and parameters: {'units': 45, 'learning_rate': 0.00023228883396700446, 'dropout_rate': 0.34211367301682494, 'batch_size': 32}. Best is trial 14 with value: 0.5903614163398743.\n"
          ]
        },
        {
          "output_type": "stream",
          "name": "stdout",
          "text": [
            "Epoch 56: early stopping\n"
          ]
        },
        {
          "output_type": "stream",
          "name": "stderr",
          "text": [
            "[I 2023-07-09 07:41:37,440] Trial 28 finished with value: 0.5662650465965271 and parameters: {'units': 121, 'learning_rate': 2.282720556806507e-05, 'dropout_rate': 0.28471177254233954, 'batch_size': 16}. Best is trial 14 with value: 0.5903614163398743.\n"
          ]
        },
        {
          "output_type": "stream",
          "name": "stdout",
          "text": [
            "Epoch 26: early stopping\n"
          ]
        },
        {
          "output_type": "stream",
          "name": "stderr",
          "text": [
            "[I 2023-07-09 07:41:57,276] Trial 29 finished with value: 0.5843373537063599 and parameters: {'units': 77, 'learning_rate': 0.0001358130690169562, 'dropout_rate': 0.40478152858482763, 'batch_size': 16}. Best is trial 14 with value: 0.5903614163398743.\n"
          ]
        },
        {
          "output_type": "stream",
          "name": "stdout",
          "text": [
            "Epoch 37: early stopping\n"
          ]
        },
        {
          "output_type": "stream",
          "name": "stderr",
          "text": [
            "[I 2023-07-09 07:42:23,055] Trial 30 finished with value: 0.5753012299537659 and parameters: {'units': 106, 'learning_rate': 6.545473803143398e-05, 'dropout_rate': 0.4567344504168422, 'batch_size': 32}. Best is trial 14 with value: 0.5903614163398743.\n"
          ]
        },
        {
          "output_type": "stream",
          "name": "stdout",
          "text": [
            "Epoch 27: early stopping\n"
          ]
        },
        {
          "output_type": "stream",
          "name": "stderr",
          "text": [
            "[I 2023-07-09 07:42:47,291] Trial 31 finished with value: 0.5933734774589539 and parameters: {'units': 90, 'learning_rate': 0.0011638445051128984, 'dropout_rate': 0.49516644223032624, 'batch_size': 32}. Best is trial 31 with value: 0.5933734774589539.\n"
          ]
        },
        {
          "output_type": "stream",
          "name": "stdout",
          "text": [
            "Epoch 29: early stopping\n"
          ]
        },
        {
          "output_type": "stream",
          "name": "stderr",
          "text": [
            "[I 2023-07-09 07:43:03,497] Trial 32 finished with value: 0.5542168617248535 and parameters: {'units': 93, 'learning_rate': 0.0010370998526775296, 'dropout_rate': 0.4256968272160809, 'batch_size': 32}. Best is trial 31 with value: 0.5933734774589539.\n"
          ]
        },
        {
          "output_type": "stream",
          "name": "stdout",
          "text": [
            "Epoch 49: early stopping\n"
          ]
        },
        {
          "output_type": "stream",
          "name": "stderr",
          "text": [
            "[I 2023-07-09 07:43:24,130] Trial 33 finished with value: 0.5662650465965271 and parameters: {'units': 63, 'learning_rate': 0.0001377427709998296, 'dropout_rate': 0.46807953424548143, 'batch_size': 32}. Best is trial 31 with value: 0.5933734774589539.\n"
          ]
        },
        {
          "output_type": "stream",
          "name": "stdout",
          "text": [
            "Epoch 18: early stopping\n"
          ]
        },
        {
          "output_type": "stream",
          "name": "stderr",
          "text": [
            "[I 2023-07-09 07:43:39,882] Trial 34 finished with value: 0.5361445546150208 and parameters: {'units': 109, 'learning_rate': 0.003775427613294234, 'dropout_rate': 0.40075962644964025, 'batch_size': 32}. Best is trial 31 with value: 0.5933734774589539.\n"
          ]
        },
        {
          "output_type": "stream",
          "name": "stdout",
          "text": [
            "Epoch 29: early stopping\n"
          ]
        },
        {
          "output_type": "stream",
          "name": "stderr",
          "text": [
            "[I 2023-07-09 07:44:04,612] Trial 35 finished with value: 0.5632529854774475 and parameters: {'units': 97, 'learning_rate': 0.0003647395385736695, 'dropout_rate': 0.4979040813041586, 'batch_size': 16}. Best is trial 31 with value: 0.5933734774589539.\n"
          ]
        },
        {
          "output_type": "stream",
          "name": "stdout",
          "text": [
            "Epoch 38: early stopping\n"
          ]
        },
        {
          "output_type": "stream",
          "name": "stderr",
          "text": [
            "[I 2023-07-09 07:44:23,041] Trial 36 finished with value: 0.5692771077156067 and parameters: {'units': 75, 'learning_rate': 0.00020029021874381077, 'dropout_rate': 0.4478474251411332, 'batch_size': 32}. Best is trial 31 with value: 0.5933734774589539.\n"
          ]
        },
        {
          "output_type": "stream",
          "name": "stdout",
          "text": [
            "Epoch 15: early stopping\n"
          ]
        },
        {
          "output_type": "stream",
          "name": "stderr",
          "text": [
            "[I 2023-07-09 07:44:48,224] Trial 37 finished with value: 0.5632529854774475 and parameters: {'units': 119, 'learning_rate': 0.0006781185068111903, 'dropout_rate': 0.36128551018945926, 'batch_size': 16}. Best is trial 31 with value: 0.5933734774589539.\n"
          ]
        },
        {
          "output_type": "stream",
          "name": "stdout",
          "text": [
            "Epoch 53: early stopping\n"
          ]
        },
        {
          "output_type": "stream",
          "name": "stderr",
          "text": [
            "[I 2023-07-09 07:45:13,678] Trial 38 finished with value: 0.5662650465965271 and parameters: {'units': 88, 'learning_rate': 5.315073506962328e-05, 'dropout_rate': 0.41464364021832006, 'batch_size': 32}. Best is trial 31 with value: 0.5933734774589539.\n"
          ]
        },
        {
          "output_type": "stream",
          "name": "stdout",
          "text": [
            "Epoch 27: early stopping\n"
          ]
        },
        {
          "output_type": "stream",
          "name": "stderr",
          "text": [
            "[I 2023-07-09 07:45:39,187] Trial 39 finished with value: 0.5692771077156067 and parameters: {'units': 97, 'learning_rate': 0.00010973739654492263, 'dropout_rate': 0.4511872087411154, 'batch_size': 16}. Best is trial 31 with value: 0.5933734774589539.\n"
          ]
        },
        {
          "output_type": "stream",
          "name": "stdout",
          "text": [
            "Epoch 63: early stopping\n"
          ]
        },
        {
          "output_type": "stream",
          "name": "stderr",
          "text": [
            "[I 2023-07-09 07:46:11,670] Trial 40 finished with value: 0.5843373537063599 and parameters: {'units': 105, 'learning_rate': 3.364795737466949e-05, 'dropout_rate': 0.46897491031704525, 'batch_size': 32}. Best is trial 31 with value: 0.5933734774589539.\n"
          ]
        },
        {
          "output_type": "stream",
          "name": "stdout",
          "text": [
            "Epoch 35: early stopping\n"
          ]
        },
        {
          "output_type": "stream",
          "name": "stderr",
          "text": [
            "[I 2023-07-09 07:46:29,751] Trial 41 finished with value: 0.5421686768531799 and parameters: {'units': 92, 'learning_rate': 0.0011951873984243798, 'dropout_rate': 0.49228171824433686, 'batch_size': 32}. Best is trial 31 with value: 0.5933734774589539.\n"
          ]
        },
        {
          "output_type": "stream",
          "name": "stdout",
          "text": [
            "Epoch 32: early stopping\n"
          ]
        },
        {
          "output_type": "stream",
          "name": "stderr",
          "text": [
            "[I 2023-07-09 07:46:46,081] Trial 42 finished with value: 0.5632529854774475 and parameters: {'units': 80, 'learning_rate': 0.00036772391794316725, 'dropout_rate': 0.46755130531203926, 'batch_size': 32}. Best is trial 31 with value: 0.5933734774589539.\n"
          ]
        },
        {
          "output_type": "stream",
          "name": "stdout",
          "text": [
            "Epoch 31: early stopping\n"
          ]
        },
        {
          "output_type": "stream",
          "name": "stderr",
          "text": [
            "[I 2023-07-09 07:47:12,333] Trial 43 finished with value: 0.5903614163398743 and parameters: {'units': 90, 'learning_rate': 0.0014506520734604961, 'dropout_rate': 0.42497986713417485, 'batch_size': 32}. Best is trial 31 with value: 0.5933734774589539.\n"
          ]
        },
        {
          "output_type": "stream",
          "name": "stdout",
          "text": [
            "Epoch 14: early stopping\n"
          ]
        },
        {
          "output_type": "stream",
          "name": "stderr",
          "text": [
            "[I 2023-07-09 07:47:27,483] Trial 44 finished with value: 0.5843373537063599 and parameters: {'units': 99, 'learning_rate': 0.004456565083232673, 'dropout_rate': 0.3865283552787879, 'batch_size': 32}. Best is trial 31 with value: 0.5933734774589539.\n"
          ]
        },
        {
          "output_type": "stream",
          "name": "stdout",
          "text": [
            "Epoch 46: early stopping\n"
          ]
        },
        {
          "output_type": "stream",
          "name": "stderr",
          "text": [
            "[I 2023-07-09 07:47:54,365] Trial 45 finished with value: 0.5572289228439331 and parameters: {'units': 125, 'learning_rate': 0.0006521173016686021, 'dropout_rate': 0.41540031337614836, 'batch_size': 32}. Best is trial 31 with value: 0.5933734774589539.\n"
          ]
        },
        {
          "output_type": "stream",
          "name": "stdout",
          "text": [
            "Epoch 26: early stopping\n"
          ]
        },
        {
          "output_type": "stream",
          "name": "stderr",
          "text": [
            "[I 2023-07-09 07:48:08,084] Trial 46 finished with value: 0.5572289228439331 and parameters: {'units': 70, 'learning_rate': 0.00034688949909233866, 'dropout_rate': 0.4320647051695928, 'batch_size': 32}. Best is trial 31 with value: 0.5933734774589539.\n"
          ]
        },
        {
          "output_type": "stream",
          "name": "stdout",
          "text": [
            "Epoch 33: early stopping\n"
          ]
        },
        {
          "output_type": "stream",
          "name": "stderr",
          "text": [
            "[I 2023-07-09 07:48:53,886] Trial 47 finished with value: 0.5240963697433472 and parameters: {'units': 115, 'learning_rate': 0.001412057480137681, 'dropout_rate': 0.376072406396032, 'batch_size': 16}. Best is trial 31 with value: 0.5933734774589539.\n"
          ]
        },
        {
          "output_type": "stream",
          "name": "stdout",
          "text": [
            "Epoch 25: early stopping\n"
          ]
        },
        {
          "output_type": "stream",
          "name": "stderr",
          "text": [
            "[I 2023-07-09 07:49:19,253] Trial 48 finished with value: 0.5843373537063599 and parameters: {'units': 84, 'learning_rate': 0.00016212299036497124, 'dropout_rate': 0.44227635216365224, 'batch_size': 32}. Best is trial 31 with value: 0.5933734774589539.\n"
          ]
        },
        {
          "output_type": "stream",
          "name": "stdout",
          "text": [
            "Epoch 44: early stopping\n"
          ]
        },
        {
          "output_type": "stream",
          "name": "stderr",
          "text": [
            "[I 2023-07-09 07:49:43,496] Trial 49 finished with value: 0.6114457845687866 and parameters: {'units': 80, 'learning_rate': 0.0005228570449480574, 'dropout_rate': 0.4759662467551873, 'batch_size': 32}. Best is trial 49 with value: 0.6114457845687866.\n"
          ]
        },
        {
          "output_type": "stream",
          "name": "stdout",
          "text": [
            "Best Parameters:  {'units': 80, 'learning_rate': 0.0005228570449480574, 'dropout_rate': 0.4759662467551873, 'batch_size': 32}\n",
            "Best Value:  0.6114457845687866\n"
          ]
        }
      ]
    },
    {
      "cell_type": "code",
      "source": [
        "from sklearn.metrics import roc_curve\n",
        "\n",
        "model = Sequential()\n",
        "model.add(LSTM(best_params['units'], return_sequences=True, input_shape=(1, X_train.shape[2])))\n",
        "model.add(Dropout(best_params['dropout_rate']))\n",
        "model.add(LSTM(best_params['units']))\n",
        "model.add(Dropout(best_params['dropout_rate']))\n",
        "model.add(Dense(1, activation='sigmoid'))\n",
        "\n",
        "model.compile(optimizer='adam', loss='binary_crossentropy', metrics=['accuracy'])\n",
        "\n",
        "es = EarlyStopping(monitor='val_loss', mode='min', verbose=1, patience=10)\n",
        "\n",
        "# Train the model\n",
        "model.fit(X_train, Y_train, epochs=100, batch_size=best_params['batch_size'], validation_data=(X_val, Y_val), callbacks=[es])\n",
        "#model.fit(X_train, Y_train, epochs=100, batch_size=best_params['batch_size'], validation_data=(X_val, Y_val))\n",
        "\n",
        "vector_size = X_train.shape[2]  # Assuming X_train is already defined\n",
        "X_test = X_test.reshape((X_test.shape[0], 1, vector_size))\n",
        "\n",
        "# predicting probabilities instead of classes\n",
        "pred_probs = model.predict(X_test)\n",
        "\n",
        "# get the false positive rate, true positive rate, and all thresholds\n",
        "fpr, tpr, thresholds = roc_curve(Y_val, model.predict(X_val).ravel())\n",
        "\n",
        "# calculate the g-mean for each threshold\n",
        "gmeans = np.sqrt(tpr * (1-fpr))\n",
        "\n",
        "# locate the index of the largest g-mean\n",
        "ix = np.argmax(gmeans)\n",
        "\n",
        "print('Best Threshold=%f' % thresholds[ix])"
      ],
      "metadata": {
        "id": "sTTB3Bn7JcZt",
        "colab": {
          "base_uri": "https://localhost:8080/"
        },
        "outputId": "9ea28406-c6bf-4653-d650-3c2c8a086676"
      },
      "execution_count": 19,
      "outputs": [
        {
          "output_type": "stream",
          "name": "stdout",
          "text": [
            "Epoch 1/100\n",
            "42/42 [==============================] - 5s 27ms/step - loss: 0.6927 - accuracy: 0.5249 - val_loss: 0.6915 - val_accuracy: 0.5000\n",
            "Epoch 2/100\n",
            "42/42 [==============================] - 0s 7ms/step - loss: 0.6914 - accuracy: 0.5234 - val_loss: 0.6897 - val_accuracy: 0.5000\n",
            "Epoch 3/100\n",
            "42/42 [==============================] - 0s 8ms/step - loss: 0.6870 - accuracy: 0.5279 - val_loss: 0.6850 - val_accuracy: 0.5663\n",
            "Epoch 4/100\n",
            "42/42 [==============================] - 0s 9ms/step - loss: 0.6898 - accuracy: 0.5279 - val_loss: 0.6838 - val_accuracy: 0.5904\n",
            "Epoch 5/100\n",
            "42/42 [==============================] - 0s 8ms/step - loss: 0.6853 - accuracy: 0.5347 - val_loss: 0.6862 - val_accuracy: 0.5271\n",
            "Epoch 6/100\n",
            "42/42 [==============================] - 0s 8ms/step - loss: 0.6863 - accuracy: 0.5513 - val_loss: 0.6831 - val_accuracy: 0.5843\n",
            "Epoch 7/100\n",
            "42/42 [==============================] - 0s 9ms/step - loss: 0.6898 - accuracy: 0.5339 - val_loss: 0.6881 - val_accuracy: 0.5120\n",
            "Epoch 8/100\n",
            "42/42 [==============================] - 0s 9ms/step - loss: 0.6862 - accuracy: 0.5505 - val_loss: 0.6818 - val_accuracy: 0.5753\n",
            "Epoch 9/100\n",
            "42/42 [==============================] - 0s 8ms/step - loss: 0.6849 - accuracy: 0.5551 - val_loss: 0.6845 - val_accuracy: 0.5542\n",
            "Epoch 10/100\n",
            "42/42 [==============================] - 0s 8ms/step - loss: 0.6898 - accuracy: 0.5309 - val_loss: 0.6820 - val_accuracy: 0.6054\n",
            "Epoch 11/100\n",
            "42/42 [==============================] - 0s 10ms/step - loss: 0.6854 - accuracy: 0.5339 - val_loss: 0.6832 - val_accuracy: 0.5843\n",
            "Epoch 12/100\n",
            "42/42 [==============================] - 0s 8ms/step - loss: 0.6842 - accuracy: 0.5558 - val_loss: 0.6823 - val_accuracy: 0.5813\n",
            "Epoch 13/100\n",
            "42/42 [==============================] - 0s 8ms/step - loss: 0.6857 - accuracy: 0.5649 - val_loss: 0.6816 - val_accuracy: 0.5843\n",
            "Epoch 14/100\n",
            "42/42 [==============================] - 0s 9ms/step - loss: 0.6848 - accuracy: 0.5460 - val_loss: 0.6857 - val_accuracy: 0.5301\n",
            "Epoch 15/100\n",
            "42/42 [==============================] - 0s 9ms/step - loss: 0.6873 - accuracy: 0.5528 - val_loss: 0.6816 - val_accuracy: 0.5813\n",
            "Epoch 16/100\n",
            "42/42 [==============================] - 0s 9ms/step - loss: 0.6855 - accuracy: 0.5437 - val_loss: 0.6840 - val_accuracy: 0.5542\n",
            "Epoch 17/100\n",
            "42/42 [==============================] - 1s 13ms/step - loss: 0.6875 - accuracy: 0.5437 - val_loss: 0.6837 - val_accuracy: 0.5633\n",
            "Epoch 18/100\n",
            "42/42 [==============================] - 1s 13ms/step - loss: 0.6858 - accuracy: 0.5385 - val_loss: 0.6829 - val_accuracy: 0.5633\n",
            "Epoch 19/100\n",
            "42/42 [==============================] - 1s 13ms/step - loss: 0.6833 - accuracy: 0.5377 - val_loss: 0.6806 - val_accuracy: 0.5813\n",
            "Epoch 20/100\n",
            "42/42 [==============================] - 1s 13ms/step - loss: 0.6829 - accuracy: 0.5460 - val_loss: 0.6787 - val_accuracy: 0.5753\n",
            "Epoch 21/100\n",
            "42/42 [==============================] - 0s 12ms/step - loss: 0.6848 - accuracy: 0.5483 - val_loss: 0.6801 - val_accuracy: 0.5783\n",
            "Epoch 22/100\n",
            "42/42 [==============================] - 1s 12ms/step - loss: 0.6872 - accuracy: 0.5347 - val_loss: 0.6815 - val_accuracy: 0.5783\n",
            "Epoch 23/100\n",
            "42/42 [==============================] - 1s 13ms/step - loss: 0.6793 - accuracy: 0.5701 - val_loss: 0.6811 - val_accuracy: 0.5542\n",
            "Epoch 24/100\n",
            "42/42 [==============================] - 1s 13ms/step - loss: 0.6864 - accuracy: 0.5354 - val_loss: 0.6794 - val_accuracy: 0.5843\n",
            "Epoch 25/100\n",
            "42/42 [==============================] - 0s 11ms/step - loss: 0.6854 - accuracy: 0.5618 - val_loss: 0.6820 - val_accuracy: 0.5813\n",
            "Epoch 26/100\n",
            "42/42 [==============================] - 0s 8ms/step - loss: 0.6831 - accuracy: 0.5551 - val_loss: 0.6808 - val_accuracy: 0.5633\n",
            "Epoch 27/100\n",
            "42/42 [==============================] - 0s 9ms/step - loss: 0.6853 - accuracy: 0.5498 - val_loss: 0.6826 - val_accuracy: 0.5723\n",
            "Epoch 28/100\n",
            "42/42 [==============================] - 0s 8ms/step - loss: 0.6861 - accuracy: 0.5339 - val_loss: 0.6794 - val_accuracy: 0.5873\n",
            "Epoch 29/100\n",
            "42/42 [==============================] - 0s 8ms/step - loss: 0.6827 - accuracy: 0.5498 - val_loss: 0.6802 - val_accuracy: 0.5693\n",
            "Epoch 30/100\n",
            "42/42 [==============================] - 0s 8ms/step - loss: 0.6850 - accuracy: 0.5392 - val_loss: 0.6809 - val_accuracy: 0.5783\n",
            "Epoch 30: early stopping\n",
            "39/39 [==============================] - 1s 2ms/step\n",
            "11/11 [==============================] - 0s 3ms/step\n",
            "Best Threshold=0.520572\n"
          ]
        }
      ]
    },
    {
      "cell_type": "code",
      "source": [
        "from sklearn.metrics import roc_curve, auc\n",
        "import matplotlib.pyplot as plt\n",
        "\n",
        "# Compute ROC curve and ROC area for each class\n",
        "fpr, tpr, _ = roc_curve(Y_val, model.predict(X_val).ravel())\n",
        "roc_auc = auc(fpr, tpr)\n",
        "\n",
        "plt.figure()\n",
        "lw = 2\n",
        "plt.plot(fpr, tpr, color='darkorange',\n",
        "         lw=lw, label='ROC curve (area = %0.2f)' % roc_auc)\n",
        "plt.plot([0, 1], [0, 1], color='navy', lw=lw, linestyle='--')\n",
        "plt.xlim([0.0, 1.0])\n",
        "plt.ylim([0.0, 1.05])\n",
        "plt.xlabel('False Positive Rate')\n",
        "plt.ylabel('True Positive Rate')\n",
        "plt.title('Receiver Operating Characteristic')\n",
        "plt.legend(loc=\"lower right\")\n",
        "plt.show()"
      ],
      "metadata": {
        "id": "E5CRk_mdJkZ6",
        "colab": {
          "base_uri": "https://localhost:8080/",
          "height": 490
        },
        "outputId": "f06c5125-a607-4cd0-9fd3-e008bcd0c055"
      },
      "execution_count": 20,
      "outputs": [
        {
          "output_type": "stream",
          "name": "stdout",
          "text": [
            "11/11 [==============================] - 0s 2ms/step\n"
          ]
        },
        {
          "output_type": "display_data",
          "data": {
            "text/plain": [
              "<Figure size 640x480 with 1 Axes>"
            ],
            "image/png": "[encoded data removed]"
          },
          "metadata": {}
        }
      ]
    },
    {
      "cell_type": "markdown",
      "source": [
        "## **Inference & Submission**"
      ],
      "metadata": {
        "id": "1gmZAF3tJmGM"
      }
    },
    {
      "cell_type": "code",
      "source": [
        "predictions = (pred_probs > thresholds[ix]).astype(int).flatten()\n",
        "\n",
        "submit = pd.read_csv('/content/drive/MyDrive/competition/Court_Judgment/sample_submission.csv')\n",
        "\n",
        "submit['first_party_winner'] = predictions\n",
        "submit.to_csv('/content/drive/MyDrive/competition/Court_Judgment/baseline_submit_best.csv', index=False)\n",
        "print('Done')"
      ],
      "metadata": {
        "id": "hJrQcgzeJlJA",
        "colab": {
          "base_uri": "https://localhost:8080/"
        },
        "outputId": "dac626cb-69ee-40f3-827a-964f70011fb6"
      },
      "execution_count": 21,
      "outputs": [
        {
          "output_type": "stream",
          "name": "stdout",
          "text": [
            "Done\n"
          ]
        }
      ]
    }
  ]
}