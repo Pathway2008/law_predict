{
 "cells": [
  {
   "cell_type": "code",
   "execution_count": 158,
   "id": "41a21179",
   "metadata": {},
   "outputs": [],
   "source": [
    "import pandas as pd\n",
    "train = pd.read_csv('train.csv')\n",
    "test = pd.read_csv('test.csv')\n",
    "sub = pd.read_csv('sample_submission.csv')"
   ]
  },
  {
   "cell_type": "code",
   "execution_count": 3,
   "id": "1f93826a",
   "metadata": {},
   "outputs": [],
   "source": [
    "import pandas as pd\n",
    "import string\n",
    "import nltk\n",
    "from nltk.corpus import stopwords\n",
    "from nltk.stem import WordNetLemmatizer\n",
    "from nltk.tokenize import word_tokenize\n",
    "from nltk import pos_tag"
   ]
  },
  {
   "cell_type": "code",
   "execution_count": 161,
   "id": "55c7e883",
   "metadata": {},
   "outputs": [],
   "source": [
    "# Define preprocessing functions\n",
    "def remove_punctuation_and_lower(text):\n",
    "    # Remove punctuation marks using the string module\n",
    "    text = text.translate(str.maketrans('', '', string.punctuation))\n",
    "    # Convert text to lowercase\n",
    "    text = text.lower()\n",
    "    text = text.replace('\\n',' ').replace(\"'\",' ')\n",
    "    return text"
   ]
  },
  {
   "cell_type": "code",
   "execution_count": 5,
   "id": "e278e6c9",
   "metadata": {
    "collapsed": true
   },
   "outputs": [
    {
     "data": {
      "text/plain": [
       "'\\ndef lemmatize_word(word):\\n    # Lemmatize the word using WordNetLemmatizer\\n    lemmatizer = WordNetLemmatizer()\\n    return lemmatizer.lemmatize(word)\\n'"
      ]
     },
     "execution_count": 5,
     "metadata": {},
     "output_type": "execute_result"
    }
   ],
   "source": [
    "#원형화 제외\n",
    "'''\n",
    "def lemmatize_word(word):\n",
    "    # Lemmatize the word using WordNetLemmatizer\n",
    "    lemmatizer = WordNetLemmatizer()\n",
    "    return lemmatizer.lemmatize(word)\n",
    "'''"
   ]
  },
  {
   "cell_type": "code",
   "execution_count": 162,
   "id": "91a4798c",
   "metadata": {},
   "outputs": [],
   "source": [
    "# Apply preprocessing steps to the 'facts' column\n",
    "train['preprocessed_facts'] = train['facts'].apply(remove_punctuation_and_lower)\n",
    "train['tokenized_facts'] = train['preprocessed_facts'].apply(word_tokenize)\n",
    "train['tokenized_facts'] = train['tokenized_facts'].apply(lambda x: [word for word in x if word not in stopwords.words('english')])"
   ]
  },
  {
   "cell_type": "code",
   "execution_count": 163,
   "id": "0166fd74",
   "metadata": {},
   "outputs": [],
   "source": [
    "# Concatenate all lemmatized words into a single string\n",
    "all_words = ' '.join(train['tokenized_facts'].apply(lambda x: ' '.join(x)))"
   ]
  },
  {
   "cell_type": "code",
   "execution_count": 164,
   "id": "c0a60ad6",
   "metadata": {},
   "outputs": [
    {
     "data": {
      "text/html": [
       "<div>\n",
       "<style scoped>\n",
       "    .dataframe tbody tr th:only-of-type {\n",
       "        vertical-align: middle;\n",
       "    }\n",
       "\n",
       "    .dataframe tbody tr th {\n",
       "        vertical-align: top;\n",
       "    }\n",
       "\n",
       "    .dataframe thead th {\n",
       "        text-align: right;\n",
       "    }\n",
       "</style>\n",
       "<table border=\"1\" class=\"dataframe\">\n",
       "  <thead>\n",
       "    <tr style=\"text-align: right;\">\n",
       "      <th></th>\n",
       "      <th>ID</th>\n",
       "      <th>first_party</th>\n",
       "      <th>second_party</th>\n",
       "      <th>facts</th>\n",
       "      <th>first_party_winner</th>\n",
       "      <th>preprocessed_facts</th>\n",
       "      <th>tokenized_facts</th>\n",
       "    </tr>\n",
       "  </thead>\n",
       "  <tbody>\n",
       "    <tr>\n",
       "      <th>0</th>\n",
       "      <td>TRAIN_0000</td>\n",
       "      <td>Phil A. St. Amant</td>\n",
       "      <td>Herman A. Thompson</td>\n",
       "      <td>On June 27, 1962, Phil St. Amant, a candidate ...</td>\n",
       "      <td>1</td>\n",
       "      <td>on june 27 1962 phil st amant a candidate for ...</td>\n",
       "      <td>[june, 27, 1962, phil, st, amant, candidate, p...</td>\n",
       "    </tr>\n",
       "    <tr>\n",
       "      <th>1</th>\n",
       "      <td>TRAIN_0001</td>\n",
       "      <td>Stephen Duncan</td>\n",
       "      <td>Lawrence Owens</td>\n",
       "      <td>Ramon Nelson was riding his bike when he suffe...</td>\n",
       "      <td>0</td>\n",
       "      <td>ramon nelson was riding his bike when he suffe...</td>\n",
       "      <td>[ramon, nelson, riding, bike, suffered, lethal...</td>\n",
       "    </tr>\n",
       "    <tr>\n",
       "      <th>2</th>\n",
       "      <td>TRAIN_0002</td>\n",
       "      <td>Billy Joe Magwood</td>\n",
       "      <td>Tony Patterson, Warden, et al.</td>\n",
       "      <td>An Alabama state court convicted Billy Joe Mag...</td>\n",
       "      <td>1</td>\n",
       "      <td>an alabama state court convicted billy joe mag...</td>\n",
       "      <td>[alabama, state, court, convicted, billy, joe,...</td>\n",
       "    </tr>\n",
       "    <tr>\n",
       "      <th>3</th>\n",
       "      <td>TRAIN_0003</td>\n",
       "      <td>Linkletter</td>\n",
       "      <td>Walker</td>\n",
       "      <td>Victor Linkletter was convicted in state court...</td>\n",
       "      <td>0</td>\n",
       "      <td>victor linkletter was convicted in state court...</td>\n",
       "      <td>[victor, linkletter, convicted, state, court, ...</td>\n",
       "    </tr>\n",
       "    <tr>\n",
       "      <th>4</th>\n",
       "      <td>TRAIN_0004</td>\n",
       "      <td>William Earl Fikes</td>\n",
       "      <td>Alabama</td>\n",
       "      <td>On April 24, 1953 in Selma, Alabama, an intrud...</td>\n",
       "      <td>1</td>\n",
       "      <td>on april 24 1953 in selma alabama an intruder ...</td>\n",
       "      <td>[april, 24, 1953, selma, alabama, intruder, br...</td>\n",
       "    </tr>\n",
       "  </tbody>\n",
       "</table>\n",
       "</div>"
      ],
      "text/plain": [
       "           ID         first_party                    second_party  \\\n",
       "0  TRAIN_0000   Phil A. St. Amant              Herman A. Thompson   \n",
       "1  TRAIN_0001      Stephen Duncan                  Lawrence Owens   \n",
       "2  TRAIN_0002   Billy Joe Magwood  Tony Patterson, Warden, et al.   \n",
       "3  TRAIN_0003          Linkletter                          Walker   \n",
       "4  TRAIN_0004  William Earl Fikes                         Alabama   \n",
       "\n",
       "                                               facts  first_party_winner  \\\n",
       "0  On June 27, 1962, Phil St. Amant, a candidate ...                   1   \n",
       "1  Ramon Nelson was riding his bike when he suffe...                   0   \n",
       "2  An Alabama state court convicted Billy Joe Mag...                   1   \n",
       "3  Victor Linkletter was convicted in state court...                   0   \n",
       "4  On April 24, 1953 in Selma, Alabama, an intrud...                   1   \n",
       "\n",
       "                                  preprocessed_facts  \\\n",
       "0  on june 27 1962 phil st amant a candidate for ...   \n",
       "1  ramon nelson was riding his bike when he suffe...   \n",
       "2  an alabama state court convicted billy joe mag...   \n",
       "3  victor linkletter was convicted in state court...   \n",
       "4  on april 24 1953 in selma alabama an intruder ...   \n",
       "\n",
       "                                     tokenized_facts  \n",
       "0  [june, 27, 1962, phil, st, amant, candidate, p...  \n",
       "1  [ramon, nelson, riding, bike, suffered, lethal...  \n",
       "2  [alabama, state, court, convicted, billy, joe,...  \n",
       "3  [victor, linkletter, convicted, state, court, ...  \n",
       "4  [april, 24, 1953, selma, alabama, intruder, br...  "
      ]
     },
     "execution_count": 164,
     "metadata": {},
     "output_type": "execute_result"
    }
   ],
   "source": [
    "train.head()"
   ]
  },
  {
   "cell_type": "code",
   "execution_count": 170,
   "id": "495a2a0f",
   "metadata": {},
   "outputs": [],
   "source": [
    "train['facts'] = train['facts'].str.lower()\n",
    "\n",
    "# Assuming you have a DataFrame called 'train' with 'first_party' and 'second_party' columns\n",
    "\n",
    "# Remove punctuation marks, convert to lowercase, and extract names with three or more characters based on spacing\n",
    "train['first_party'] = train['first_party'].apply(lambda x: re.sub(r'[^\\w\\s]', '', x).lower())\n",
    "train['first_party'] = train['first_party'].apply(lambda x: ' '.join(filter(lambda y: len(y) >= 3, x.split())))\n",
    "\n",
    "train['second_party'] = train['second_party'].apply(lambda x: re.sub(r'[^\\w\\s]', '', x).lower())\n",
    "train['second_party'] = train['second_party'].apply(lambda x: ' '.join(filter(lambda y: len(y) >= 3, x.split())))"
   ]
  },
  {
   "cell_type": "code",
   "execution_count": 197,
   "id": "57604bff",
   "metadata": {},
   "outputs": [
    {
     "data": {
      "text/html": [
       "<div>\n",
       "<style scoped>\n",
       "    .dataframe tbody tr th:only-of-type {\n",
       "        vertical-align: middle;\n",
       "    }\n",
       "\n",
       "    .dataframe tbody tr th {\n",
       "        vertical-align: top;\n",
       "    }\n",
       "\n",
       "    .dataframe thead th {\n",
       "        text-align: right;\n",
       "    }\n",
       "</style>\n",
       "<table border=\"1\" class=\"dataframe\">\n",
       "  <thead>\n",
       "    <tr style=\"text-align: right;\">\n",
       "      <th></th>\n",
       "      <th>ID</th>\n",
       "      <th>first_party</th>\n",
       "      <th>second_party</th>\n",
       "      <th>facts</th>\n",
       "      <th>first_party_winner</th>\n",
       "      <th>preprocessed_facts</th>\n",
       "      <th>tokenized_facts</th>\n",
       "    </tr>\n",
       "  </thead>\n",
       "  <tbody>\n",
       "    <tr>\n",
       "      <th>0</th>\n",
       "      <td>TRAIN_0000</td>\n",
       "      <td>phil amant</td>\n",
       "      <td>herman thompson</td>\n",
       "      <td>on june 27, 1962, phil st. amant, a candidate ...</td>\n",
       "      <td>1</td>\n",
       "      <td>on june 27 1962 phil st amant a candidate for ...</td>\n",
       "      <td>[june, 27, 1962, phil, st, amant, candidate, p...</td>\n",
       "    </tr>\n",
       "    <tr>\n",
       "      <th>1</th>\n",
       "      <td>TRAIN_0001</td>\n",
       "      <td>stephen duncan</td>\n",
       "      <td>lawrence owens</td>\n",
       "      <td>ramon nelson was riding his bike when he suffe...</td>\n",
       "      <td>0</td>\n",
       "      <td>ramon nelson was riding his bike when he suffe...</td>\n",
       "      <td>[ramon, nelson, riding, bike, suffered, lethal...</td>\n",
       "    </tr>\n",
       "    <tr>\n",
       "      <th>2</th>\n",
       "      <td>TRAIN_0002</td>\n",
       "      <td>billy joe magwood</td>\n",
       "      <td>tony patterson warden</td>\n",
       "      <td>an alabama state court convicted billy joe mag...</td>\n",
       "      <td>1</td>\n",
       "      <td>an alabama state court convicted billy joe mag...</td>\n",
       "      <td>[alabama, state, court, convicted, billy, joe,...</td>\n",
       "    </tr>\n",
       "    <tr>\n",
       "      <th>3</th>\n",
       "      <td>TRAIN_0003</td>\n",
       "      <td>linkletter</td>\n",
       "      <td>walker</td>\n",
       "      <td>victor linkletter was convicted in state court...</td>\n",
       "      <td>0</td>\n",
       "      <td>victor linkletter was convicted in state court...</td>\n",
       "      <td>[victor, linkletter, convicted, state, court, ...</td>\n",
       "    </tr>\n",
       "    <tr>\n",
       "      <th>4</th>\n",
       "      <td>TRAIN_0004</td>\n",
       "      <td>william earl fikes</td>\n",
       "      <td>alabama</td>\n",
       "      <td>on april 24, 1953 in selma, alabama, an intrud...</td>\n",
       "      <td>1</td>\n",
       "      <td>on april 24 1953 in selma alabama an intruder ...</td>\n",
       "      <td>[april, 24, 1953, selma, alabama, intruder, br...</td>\n",
       "    </tr>\n",
       "  </tbody>\n",
       "</table>\n",
       "</div>"
      ],
      "text/plain": [
       "           ID         first_party           second_party  \\\n",
       "0  TRAIN_0000          phil amant        herman thompson   \n",
       "1  TRAIN_0001      stephen duncan         lawrence owens   \n",
       "2  TRAIN_0002   billy joe magwood  tony patterson warden   \n",
       "3  TRAIN_0003          linkletter                 walker   \n",
       "4  TRAIN_0004  william earl fikes                alabama   \n",
       "\n",
       "                                               facts  first_party_winner  \\\n",
       "0  on june 27, 1962, phil st. amant, a candidate ...                   1   \n",
       "1  ramon nelson was riding his bike when he suffe...                   0   \n",
       "2  an alabama state court convicted billy joe mag...                   1   \n",
       "3  victor linkletter was convicted in state court...                   0   \n",
       "4  on april 24, 1953 in selma, alabama, an intrud...                   1   \n",
       "\n",
       "                                  preprocessed_facts  \\\n",
       "0  on june 27 1962 phil st amant a candidate for ...   \n",
       "1  ramon nelson was riding his bike when he suffe...   \n",
       "2  an alabama state court convicted billy joe mag...   \n",
       "3  victor linkletter was convicted in state court...   \n",
       "4  on april 24 1953 in selma alabama an intruder ...   \n",
       "\n",
       "                                     tokenized_facts  \n",
       "0  [june, 27, 1962, phil, st, amant, candidate, p...  \n",
       "1  [ramon, nelson, riding, bike, suffered, lethal...  \n",
       "2  [alabama, state, court, convicted, billy, joe,...  \n",
       "3  [victor, linkletter, convicted, state, court, ...  \n",
       "4  [april, 24, 1953, selma, alabama, intruder, br...  "
      ]
     },
     "execution_count": 197,
     "metadata": {},
     "output_type": "execute_result"
    }
   ],
   "source": [
    "train.head()"
   ]
  },
  {
   "cell_type": "code",
   "execution_count": 188,
   "id": "bb812593",
   "metadata": {},
   "outputs": [],
   "source": [
    "for i in range(len(train)-1):\n",
    "    train['first_party'][i].split()\n",
    "    for j in range((len(train['first_party'][i].split()))-1):\n",
    "        train['preprocessed_facts'][i].replace(train['first_party'][i].split()[j],'first_party')    "
   ]
  },
  {
   "cell_type": "code",
   "execution_count": 189,
   "id": "3aeff1b5",
   "metadata": {},
   "outputs": [],
   "source": [
    "for i in range(len(train)-1):\n",
    "    train['second_party'][i].split()\n",
    "    for j in range(len(train['second_party'][i].split())-1):\n",
    "        train['preprocessed_facts'][i].replace(train['second_party'][i].split()[j],'second_party') "
   ]
  },
  {
   "cell_type": "code",
   "execution_count": 190,
   "id": "ac77fc38",
   "metadata": {},
   "outputs": [
    {
     "data": {
      "text/plain": [
       "'on june 27 1962 phil st amant a candidate for public office made a television speech in baton rouge louisiana  during this speech st amant accused his political opponent of being a communist and of being involved in criminal activities with the head of the local teamsters union  finally st amant implicated herman thompson an east baton rouge deputy sheriff in a scheme to move money between the teamsters union and st amant’s political opponent  thompson successfully sued st amant for defamation  louisiana’s first circuit court of appeals reversed holding that thompson did not show st amant acted with “malice”  thompson then appealed to the supreme court of louisiana  that court held that although public figures forfeit some of their first amendment protection from defamation st amant accused thompson of a crime with utter disregard of whether the remarks were true  finally that court held that the first amendment protects uninhibited robust debate rather than an open season to shoot down the good name of anyone who happens to be a public servant  '"
      ]
     },
     "execution_count": 190,
     "metadata": {},
     "output_type": "execute_result"
    }
   ],
   "source": [
    "train['preprocessed_facts'][0]"
   ]
  },
  {
   "cell_type": "code",
   "execution_count": 196,
   "id": "f5f93505",
   "metadata": {},
   "outputs": [
    {
     "data": {
      "text/plain": [
       "'phil'"
      ]
     },
     "execution_count": 196,
     "metadata": {},
     "output_type": "execute_result"
    }
   ],
   "source": [
    "train['first_party'][0].split()[0]"
   ]
  },
  {
   "cell_type": "code",
   "execution_count": 192,
   "id": "51893675",
   "metadata": {},
   "outputs": [
    {
     "data": {
      "text/plain": [
       "'thompson'"
      ]
     },
     "execution_count": 192,
     "metadata": {},
     "output_type": "execute_result"
    }
   ],
   "source": [
    "train['second_party'][0].split()[1]"
   ]
  },
  {
   "cell_type": "code",
   "execution_count": 193,
   "id": "eca728e9",
   "metadata": {},
   "outputs": [
    {
     "data": {
      "text/html": [
       "<div>\n",
       "<style scoped>\n",
       "    .dataframe tbody tr th:only-of-type {\n",
       "        vertical-align: middle;\n",
       "    }\n",
       "\n",
       "    .dataframe tbody tr th {\n",
       "        vertical-align: top;\n",
       "    }\n",
       "\n",
       "    .dataframe thead th {\n",
       "        text-align: right;\n",
       "    }\n",
       "</style>\n",
       "<table border=\"1\" class=\"dataframe\">\n",
       "  <thead>\n",
       "    <tr style=\"text-align: right;\">\n",
       "      <th></th>\n",
       "      <th>ID</th>\n",
       "      <th>first_party</th>\n",
       "      <th>second_party</th>\n",
       "      <th>facts</th>\n",
       "      <th>first_party_winner</th>\n",
       "      <th>preprocessed_facts</th>\n",
       "      <th>tokenized_facts</th>\n",
       "    </tr>\n",
       "  </thead>\n",
       "  <tbody>\n",
       "    <tr>\n",
       "      <th>0</th>\n",
       "      <td>TRAIN_0000</td>\n",
       "      <td>phil amant</td>\n",
       "      <td>herman thompson</td>\n",
       "      <td>on june 27, 1962, phil st. amant, a candidate ...</td>\n",
       "      <td>1</td>\n",
       "      <td>on june 27 1962 phil st amant a candidate for ...</td>\n",
       "      <td>[june, 27, 1962, phil, st, amant, candidate, p...</td>\n",
       "    </tr>\n",
       "    <tr>\n",
       "      <th>1</th>\n",
       "      <td>TRAIN_0001</td>\n",
       "      <td>stephen duncan</td>\n",
       "      <td>lawrence owens</td>\n",
       "      <td>ramon nelson was riding his bike when he suffe...</td>\n",
       "      <td>0</td>\n",
       "      <td>ramon nelson was riding his bike when he suffe...</td>\n",
       "      <td>[ramon, nelson, riding, bike, suffered, lethal...</td>\n",
       "    </tr>\n",
       "    <tr>\n",
       "      <th>2</th>\n",
       "      <td>TRAIN_0002</td>\n",
       "      <td>billy joe magwood</td>\n",
       "      <td>tony patterson warden</td>\n",
       "      <td>an alabama state court convicted billy joe mag...</td>\n",
       "      <td>1</td>\n",
       "      <td>an alabama state court convicted billy joe mag...</td>\n",
       "      <td>[alabama, state, court, convicted, billy, joe,...</td>\n",
       "    </tr>\n",
       "    <tr>\n",
       "      <th>3</th>\n",
       "      <td>TRAIN_0003</td>\n",
       "      <td>linkletter</td>\n",
       "      <td>walker</td>\n",
       "      <td>victor linkletter was convicted in state court...</td>\n",
       "      <td>0</td>\n",
       "      <td>victor linkletter was convicted in state court...</td>\n",
       "      <td>[victor, linkletter, convicted, state, court, ...</td>\n",
       "    </tr>\n",
       "    <tr>\n",
       "      <th>4</th>\n",
       "      <td>TRAIN_0004</td>\n",
       "      <td>william earl fikes</td>\n",
       "      <td>alabama</td>\n",
       "      <td>on april 24, 1953 in selma, alabama, an intrud...</td>\n",
       "      <td>1</td>\n",
       "      <td>on april 24 1953 in selma alabama an intruder ...</td>\n",
       "      <td>[april, 24, 1953, selma, alabama, intruder, br...</td>\n",
       "    </tr>\n",
       "  </tbody>\n",
       "</table>\n",
       "</div>"
      ],
      "text/plain": [
       "           ID         first_party           second_party  \\\n",
       "0  TRAIN_0000          phil amant        herman thompson   \n",
       "1  TRAIN_0001      stephen duncan         lawrence owens   \n",
       "2  TRAIN_0002   billy joe magwood  tony patterson warden   \n",
       "3  TRAIN_0003          linkletter                 walker   \n",
       "4  TRAIN_0004  william earl fikes                alabama   \n",
       "\n",
       "                                               facts  first_party_winner  \\\n",
       "0  on june 27, 1962, phil st. amant, a candidate ...                   1   \n",
       "1  ramon nelson was riding his bike when he suffe...                   0   \n",
       "2  an alabama state court convicted billy joe mag...                   1   \n",
       "3  victor linkletter was convicted in state court...                   0   \n",
       "4  on april 24, 1953 in selma, alabama, an intrud...                   1   \n",
       "\n",
       "                                  preprocessed_facts  \\\n",
       "0  on june 27 1962 phil st amant a candidate for ...   \n",
       "1  ramon nelson was riding his bike when he suffe...   \n",
       "2  an alabama state court convicted billy joe mag...   \n",
       "3  victor linkletter was convicted in state court...   \n",
       "4  on april 24 1953 in selma alabama an intruder ...   \n",
       "\n",
       "                                     tokenized_facts  \n",
       "0  [june, 27, 1962, phil, st, amant, candidate, p...  \n",
       "1  [ramon, nelson, riding, bike, suffered, lethal...  \n",
       "2  [alabama, state, court, convicted, billy, joe,...  \n",
       "3  [victor, linkletter, convicted, state, court, ...  \n",
       "4  [april, 24, 1953, selma, alabama, intruder, br...  "
      ]
     },
     "execution_count": 193,
     "metadata": {},
     "output_type": "execute_result"
    }
   ],
   "source": [
    "train.head()"
   ]
  },
  {
   "cell_type": "code",
   "execution_count": 175,
   "id": "b3722d36",
   "metadata": {},
   "outputs": [
    {
     "data": {
      "text/plain": [
       "'on june 27 1962 phil st amant a candidate for public office made a television speech in baton rouge louisiana  during this speech st amant accused his political opponent of being a communist and of being involved in criminal activities with the head of the local teamsters union  finally st amant implicated herman thompson an east baton rouge deputy sheriff in a scheme to move money between the teamsters union and st amant’s political opponent  thompson successfully sued st amant for defamation  louisiana’s first circuit court of appeals reversed holding that thompson did not show st amant acted with “malice”  thompson then appealed to the supreme court of louisiana  that court held that although public figures forfeit some of their first amendment protection from defamation st amant accused thompson of a crime with utter disregard of whether the remarks were true  finally that court held that the first amendment protects uninhibited robust debate rather than an open season to shoot down the good name of anyone who happens to be a public servant  '"
      ]
     },
     "execution_count": 175,
     "metadata": {},
     "output_type": "execute_result"
    }
   ],
   "source": [
    "train['preprocessed_facts'][0]"
   ]
  },
  {
   "cell_type": "code",
   "execution_count": null,
   "id": "c43b3a57",
   "metadata": {},
   "outputs": [],
   "source": []
  }
 ],
 "metadata": {
  "kernelspec": {
   "display_name": "Python 3 (ipykernel)",
   "language": "python",
   "name": "python3"
  },
  "language_info": {
   "codemirror_mode": {
    "name": "ipython",
    "version": 3
   },
   "file_extension": ".py",
   "mimetype": "text/x-python",
   "name": "python",
   "nbconvert_exporter": "python",
   "pygments_lexer": "ipython3",
   "version": "3.10.9"
  }
 },
 "nbformat": 4,
 "nbformat_minor": 5
}
