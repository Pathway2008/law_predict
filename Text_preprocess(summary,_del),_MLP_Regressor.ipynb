{
  "nbformat": 4,
  "nbformat_minor": 0,
  "metadata": {
    "colab": {
      "provenance": [],
      "include_colab_link": true
    },
    "kernelspec": {
      "name": "python3",
      "display_name": "Python 3"
    },
    "language_info": {
      "name": "python"
    }
  },
  "cells": [
    {
      "cell_type": "markdown",
      "metadata": {
        "id": "view-in-github",
        "colab_type": "text"
      },
      "source": [
        "<a href=\"https://colab.research.google.com/github/Pathway2008/law_predict/blob/main/Text_preprocess(summary%2C_del)%2C_MLP_Regressor.ipynb\" target=\"_parent\"><img src=\"https://colab.research.google.com/assets/colab-badge.svg\" alt=\"Open In Colab\"/></a>"
      ]
    },
    {
      "cell_type": "code",
      "source": [
        "import nltk\n",
        "from sklearn.feature_extraction.text import TfidfVectorizer\n",
        "from nltk.tokenize import sent_tokenize\n",
        "import pandas as pd\n",
        "import re\n",
        "\n",
        "import pandas as pd\n",
        "import numpy as np\n",
        "from sklearn.feature_extraction.text import TfidfVectorizer\n",
        "from sklearn.model_selection import train_test_split\n",
        "from sklearn.neural_network import MLPRegressor"
      ],
      "metadata": {
        "id": "yqAgZVQqhMbg"
      },
      "execution_count": null,
      "outputs": []
    },
    {
      "cell_type": "markdown",
      "source": [
        "# Summarize"
      ],
      "metadata": {
        "id": "uMSlVcABhZCQ"
      }
    },
    {
      "cell_type": "code",
      "execution_count": null,
      "metadata": {
        "id": "-Sjkszkegz8x"
      },
      "outputs": [],
      "source": [
        "nltk.data.path.append(\"nltk_data\")\n",
        "\n",
        "\n",
        "def text_summarize(text):\n",
        "    sentences = sent_tokenize(text)\n",
        "    vectorizer = TfidfVectorizer()\n",
        "    sentence_vectors = vectorizer.fit_transform(sentences)\n",
        "\n",
        "    top_n = 1  # 문장 개수\n",
        "    top_sentence_indices = sentence_vectors.sum(axis=1).argsort()[-top_n:]\n",
        "    top_sentence_indices.sort()\n",
        "\n",
        "    summary = \" \".join(sentences[i.item()] for i in top_sentence_indices)\n",
        "\n",
        "    return summary\n",
        "\n",
        "\n",
        "train = pd.read_csv(\"train.csv\")\n",
        "train[\"facts\"] = train[\"facts\"].apply(lambda x: text_summarize(x))\n",
        "\n",
        "test = pd.read_csv(\"test.csv\")\n",
        "test[\"facts\"] = test[\"facts\"].apply(lambda x: text_summarize(x))\n",
        "\n",
        "submit = pd.read_csv(\"sample_submission.csv\")\n",
        "\n",
        "# 부호 제거\n",
        "def alpha_num(text):\n",
        "    return re.sub(r\"[^A-Za-z0-9 ]\", \"\", text)\n",
        "\n",
        "\n",
        "# 불용어 제거\n",
        "stopwords = [\"a\", \"about\", \"above\", \"after\", \"again\", \"against\", \"all\", \"am\", \"an\", \"and\", \"any\", \"are\", \"as\",\n",
        "             \"at\", \"be\", \"because\", \"been\", \"before\", \"being\", \"below\", \"between\", \"both\", \"but\", \"by\", \"could\",\n",
        "             \"did\", \"do\", \"does\", \"doing\", \"down\", \"during\", \"each\", \"few\", \"for\", \"from\", \"further\", \"had\", \"has\",\n",
        "             \"have\", \"having\", \"he\", \"he'd\", \"he'll\", \"he's\", \"her\", \"here\", \"here's\", \"hers\", \"herself\", \"him\",\n",
        "             \"himself\",\n",
        "             \"his\", \"how\", \"how's\", \"i\", \"i'd\", \"i'll\", \"i'm\", \"i've\", \"if\", \"in\", \"into\", \"is\", \"it\", \"it's\", \"its\",\n",
        "             \"itself\",\n",
        "             \"let's\", \"me\", \"more\", \"most\", \"my\", \"myself\", \"nor\", \"of\", \"on\", \"once\", \"only\", \"or\", \"other\", \"ought\",\n",
        "             \"our\", \"ours\",\n",
        "             \"ourselves\", \"out\", \"over\", \"own\", \"same\", \"she\", \"she'd\", \"she'll\", \"she's\", \"should\", \"so\", \"some\",\n",
        "             \"such\", \"than\", \"that\",\n",
        "             \"that's\", \"the\", \"their\", \"theirs\", \"them\", \"themselves\", \"then\", \"there\", \"there's\", \"these\", \"they\",\n",
        "             \"they'd\", \"they'll\",\n",
        "             \"they're\", \"they've\", \"this\", \"those\", \"through\", \"to\", \"too\", \"under\", \"until\", \"up\", \"very\", \"was\", \"we\",\n",
        "             \"we'd\", \"we'll\",\n",
        "             \"we're\", \"we've\", \"were\", \"what\", \"what's\", \"when\", \"when's\", \"where\", \"where's\", \"which\", \"while\", \"who\",\n",
        "             \"who's\", \"whom\",\n",
        "             \"why\", \"why's\", \"with\", \"would\", \"you\", \"you'd\", \"you'll\", \"you're\", \"you've\", \"your\", \"yours\", \"yourself\",\n",
        "             \"yourselves\"]\n",
        "\n",
        "\n",
        "def remove_stopwords(text):\n",
        "    final_text = []\n",
        "    for i in text.split():\n",
        "        if i.strip().lower() not in stopwords:\n",
        "            final_text.append(i.strip())\n",
        "    return \" \".join(final_text)\n",
        "\n",
        "\n",
        "# 중복제거\n",
        "def delete_duplication(text):\n",
        "    words = text.split()\n",
        "    unique_words = []\n",
        "\n",
        "    for word in words:\n",
        "        if word not in unique_words:\n",
        "            unique_words.append(word)\n",
        "\n",
        "    result = \" \".join(unique_words)\n",
        "    return result\n",
        "\n",
        "\n",
        "train[\"facts\"] = train[\"facts\"].str.lower()\n",
        "test[\"facts\"] = test[\"facts\"].str.lower()\n",
        "train[\"facts\"] = train[\"facts\"].apply(alpha_num).apply(remove_stopwords).apply(delete_duplication)\n",
        "test[\"facts\"] = test[\"facts\"].apply(alpha_num).apply(remove_stopwords).apply(delete_duplication)"
      ]
    },
    {
      "cell_type": "markdown",
      "source": [
        "# Modeling"
      ],
      "metadata": {
        "id": "hpGXS8d_hX0Z"
      }
    },
    {
      "cell_type": "code",
      "source": [
        "vectorizer = TfidfVectorizer()\n",
        "\n",
        "def get_vector(vectorizer, df, train_mode):\n",
        "    if train_mode:\n",
        "        X_facts = vectorizer.fit_transform(df[\"facts\"])\n",
        "    else:\n",
        "        X_facts = vectorizer.transform(df[\"facts\"])\n",
        "    X_party1 = vectorizer.transform(df[\"first_party\"])\n",
        "    X_party2 = vectorizer.transform(df[\"second_party\"])\n",
        "\n",
        "    X = np.concatenate([X_party1.toarray(), X_party2.toarray(), X_facts.toarray()], axis=1)\n",
        "    return X\n",
        "\n",
        "X = get_vector(vectorizer, train, True)\n",
        "y = train[\"first_party_winner\"]\n",
        "\n",
        "X_train, X_val, y_train, y_val = train_test_split(X, y, stratify=y, test_size=0.2, random_state=42)\n",
        "\n",
        "model = MLPRegressor(hidden_layer_sizes=300)\n",
        "model.fit(X_train, y_train)\n",
        "\n",
        "X_test = get_vector(vectorizer, test, False)\n",
        "pred = model.predict(X_test)\n",
        "submit\"first_party_winner\"] = pred\n",
        "submit[\"first_party_winner\"] = submit[\"first_party_winner\"].apply(lambda x: 1 if x >= 0.5 else 0)\n",
        "\n",
        "submit.to_csv(\"submit/summarize_mlp_r_submit.csv\", index=False)"
      ],
      "metadata": {
        "id": "tQzsIQXIg9vI"
      },
      "execution_count": null,
      "outputs": []
    }
  ]
}